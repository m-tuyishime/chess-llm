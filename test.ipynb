{
 "cells": [
  {
   "cell_type": "code",
   "execution_count": null,
   "metadata": {},
   "outputs": [
    {
     "ename": "",
     "evalue": "",
     "output_type": "error",
     "traceback": [
      "\u001b[1;31mRunning cells with 'chess_llm-eYFIwXFe (Python 3.12.6)' requires the ipykernel package.\n",
      "\u001b[1;31mRun the following command to install 'ipykernel' into the Python environment. \n",
      "\u001b[1;31mCommand: 'c:/Users/TESSERACT/.virtualenvs/chess_llm-eYFIwXFe/Scripts/python.exe -m pip install ipykernel -U --force-reinstall'"
     ]
    }
   ],
   "source": [
    "import chess\n",
    "import chess.engine\n",
    "import chess.svg\n",
    "\n",
    "# Specify the path to your Stockfish binary\n",
    "stockfish_path = \"C:/path/to/stockfish/stockfish.exe\"  # Adjust this for your system\n",
    "\n",
    "# Set up the Stockfish engine\n",
    "engine = chess.engine.SimpleEngine.popen_uci(stockfish_path)\n",
    "\n",
    "# Function to play against Stockfish\n",
    "def play_chess(position_fen, skill_level=10):\n",
    "    \"\"\"\n",
    "    Play a game of chess against Stockfish.\n",
    "    \n",
    "    Parameters:\n",
    "    - position_fen: A string in FEN format representing the board position.\n",
    "    - skill_level: Skill level of Stockfish (0 to 20).\n",
    "    \"\"\"\n",
    "    board = chess.Board(position_fen)\n",
    "    engine.configure({\"Skill Level\": skill_level})\n",
    "\n",
    "    while not board.is_game_over():\n",
    "        display(chess.svg.board(board=board, size=400))  # Display the board\n",
    "        print(\"Your move (e.g., e2e4): \", end=\"\")\n",
    "        user_move = input().strip()\n",
    "        try:\n",
    "            board.push_san(user_move)\n",
    "        except ValueError:\n",
    "            print(\"Invalid move, try again!\")\n",
    "            continue\n",
    "\n",
    "        # Let Stockfish make a move\n",
    "        if not board.is_game_over():\n",
    "            result = engine.play(board, chess.engine.Limit(time=1.0))\n",
    "            board.push(result.move)\n",
    "\n",
    "    # Show the final board\n",
    "    display(chess.svg.board(board=board, size=400))\n",
    "    print(\"Game over! Result:\", board.result())\n",
    "\n",
    "# Example starting position: Initial board\n",
    "initial_fen = chess.STARTING_BOARD_FEN\n",
    "\n",
    "# Play a game\n",
    "play_chess(initial_fen, skill_level=5)\n",
    "\n",
    "# Close the engine when done\n",
    "engine.quit()\n"
   ]
  }
 ],
 "metadata": {
  "kernelspec": {
   "display_name": "chess_llm-eYFIwXFe",
   "language": "python",
   "name": "python3"
  },
  "language_info": {
   "name": "python",
   "version": "3.12.6"
  }
 },
 "nbformat": 4,
 "nbformat_minor": 2
}
