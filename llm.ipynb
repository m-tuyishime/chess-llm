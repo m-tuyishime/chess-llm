{
 "cells": [
  {
   "cell_type": "code",
   "execution_count": 2,
   "metadata": {},
   "outputs": [
    {
     "data": {
      "text/html": [
       "<div>\n",
       "<style scoped>\n",
       "    .dataframe tbody tr th:only-of-type {\n",
       "        vertical-align: middle;\n",
       "    }\n",
       "\n",
       "    .dataframe tbody tr th {\n",
       "        vertical-align: top;\n",
       "    }\n",
       "\n",
       "    .dataframe thead th {\n",
       "        text-align: right;\n",
       "    }\n",
       "</style>\n",
       "<table border=\"1\" class=\"dataframe\">\n",
       "  <thead>\n",
       "    <tr style=\"text-align: right;\">\n",
       "      <th></th>\n",
       "      <th>PuzzleId</th>\n",
       "      <th>FEN</th>\n",
       "      <th>Moves</th>\n",
       "      <th>Rating</th>\n",
       "      <th>RatingDeviation</th>\n",
       "      <th>Popularity</th>\n",
       "      <th>NbPlays</th>\n",
       "      <th>Themes</th>\n",
       "      <th>GameUrl</th>\n",
       "      <th>OpeningTags</th>\n",
       "    </tr>\n",
       "  </thead>\n",
       "  <tbody>\n",
       "    <tr>\n",
       "      <th>0</th>\n",
       "      <td>00008</td>\n",
       "      <td>r6k/pp2r2p/4Rp1Q/3p4/8/1N1P2R1/PqP2bPP/7K b - ...</td>\n",
       "      <td>f2g3 e6e7 b2b1 b3c1 b1c1 h6c1</td>\n",
       "      <td>1942</td>\n",
       "      <td>75</td>\n",
       "      <td>95</td>\n",
       "      <td>7530</td>\n",
       "      <td>crushing hangingPiece long middlegame</td>\n",
       "      <td>https://lichess.org/787zsVup/black#48</td>\n",
       "      <td>NaN</td>\n",
       "    </tr>\n",
       "  </tbody>\n",
       "</table>\n",
       "</div>"
      ],
      "text/plain": [
       "  PuzzleId                                                FEN  \\\n",
       "0    00008  r6k/pp2r2p/4Rp1Q/3p4/8/1N1P2R1/PqP2bPP/7K b - ...   \n",
       "\n",
       "                           Moves  Rating  RatingDeviation  Popularity  \\\n",
       "0  f2g3 e6e7 b2b1 b3c1 b1c1 h6c1    1942               75          95   \n",
       "\n",
       "   NbPlays                                 Themes  \\\n",
       "0     7530  crushing hangingPiece long middlegame   \n",
       "\n",
       "                                 GameUrl OpeningTags  \n",
       "0  https://lichess.org/787zsVup/black#48         NaN  "
      ]
     },
     "execution_count": 2,
     "metadata": {},
     "output_type": "execute_result"
    }
   ],
   "source": [
    "import pandas as pd\n",
    "import os\n",
    "PUZZLE_PATH = os.getenv('PUZZLE_PATH')\n",
    "\n",
    "df = pd.read_csv(PUZZLE_PATH, nrows=10)\n",
    "board_fen = df['FEN'][0]\n",
    "df.head(1)"
   ]
  },
  {
   "cell_type": "code",
   "execution_count": 3,
   "metadata": {},
   "outputs": [
    {
     "data": {
      "image/svg+xml": [
       "<svg xmlns=\"http://www.w3.org/2000/svg\" xmlns:xlink=\"http://www.w3.org/1999/xlink\" viewBox=\"0 0 390 390\" width=\"390\" height=\"390\"><desc><pre>r . . . . . . k\n",
       "p p . . r . . p\n",
       ". . . . R p . Q\n",
       ". . . p . . . .\n",
       ". . . . . . . .\n",
       ". N . P . . b .\n",
       "P q P . . . P P\n",
       ". . . . . . . K</pre></desc><defs><g id=\"white-pawn\" class=\"white pawn\"><path d=\"M22.5 9c-2.21 0-4 1.79-4 4 0 .89.29 1.71.78 2.38C17.33 16.5 16 18.59 16 21c0 2.03.94 3.84 2.41 5.03-3 1.06-7.41 5.55-7.41 13.47h23c0-7.92-4.41-12.41-7.41-13.47 1.47-1.19 2.41-3 2.41-5.03 0-2.41-1.33-4.5-3.28-5.62.49-.67.78-1.49.78-2.38 0-2.21-1.79-4-4-4z\" fill=\"#fff\" stroke=\"#000\" stroke-width=\"1.5\" stroke-linecap=\"round\" /></g><g id=\"white-knight\" class=\"white knight\" fill=\"none\" fill-rule=\"evenodd\" stroke=\"#000\" stroke-width=\"1.5\" stroke-linecap=\"round\" stroke-linejoin=\"round\"><path d=\"M 22,10 C 32.5,11 38.5,18 38,39 L 15,39 C 15,30 25,32.5 23,18\" style=\"fill:#ffffff; stroke:#000000;\" /><path d=\"M 24,18 C 24.38,20.91 18.45,25.37 16,27 C 13,29 13.18,31.34 11,31 C 9.958,30.06 12.41,27.96 11,28 C 10,28 11.19,29.23 10,30 C 9,30 5.997,31 6,26 C 6,24 12,14 12,14 C 12,14 13.89,12.1 14,10.5 C 13.27,9.506 13.5,8.5 13.5,7.5 C 14.5,6.5 16.5,10 16.5,10 L 18.5,10 C 18.5,10 19.28,8.008 21,7 C 22,7 22,10 22,10\" style=\"fill:#ffffff; stroke:#000000;\" /><path d=\"M 9.5 25.5 A 0.5 0.5 0 1 1 8.5,25.5 A 0.5 0.5 0 1 1 9.5 25.5 z\" style=\"fill:#000000; stroke:#000000;\" /><path d=\"M 15 15.5 A 0.5 1.5 0 1 1 14,15.5 A 0.5 1.5 0 1 1 15 15.5 z\" transform=\"matrix(0.866,0.5,-0.5,0.866,9.693,-5.173)\" style=\"fill:#000000; stroke:#000000;\" /></g><g id=\"white-rook\" class=\"white rook\" fill=\"#fff\" fill-rule=\"evenodd\" stroke=\"#000\" stroke-width=\"1.5\" stroke-linecap=\"round\" stroke-linejoin=\"round\"><path d=\"M9 39h27v-3H9v3zM12 36v-4h21v4H12zM11 14V9h4v2h5V9h5v2h5V9h4v5\" stroke-linecap=\"butt\" /><path d=\"M34 14l-3 3H14l-3-3\" /><path d=\"M31 17v12.5H14V17\" stroke-linecap=\"butt\" stroke-linejoin=\"miter\" /><path d=\"M31 29.5l1.5 2.5h-20l1.5-2.5\" /><path d=\"M11 14h23\" fill=\"none\" stroke-linejoin=\"miter\" /></g><g id=\"white-queen\" class=\"white queen\" fill=\"#fff\" fill-rule=\"evenodd\" stroke=\"#000\" stroke-width=\"1.5\" stroke-linecap=\"round\" stroke-linejoin=\"round\"><path d=\"M8 12a2 2 0 1 1-4 0 2 2 0 1 1 4 0zM24.5 7.5a2 2 0 1 1-4 0 2 2 0 1 1 4 0zM41 12a2 2 0 1 1-4 0 2 2 0 1 1 4 0zM16 8.5a2 2 0 1 1-4 0 2 2 0 1 1 4 0zM33 9a2 2 0 1 1-4 0 2 2 0 1 1 4 0z\" /><path d=\"M9 26c8.5-1.5 21-1.5 27 0l2-12-7 11V11l-5.5 13.5-3-15-3 15-5.5-14V25L7 14l2 12zM9 26c0 2 1.5 2 2.5 4 1 1.5 1 1 .5 3.5-1.5 1-1.5 2.5-1.5 2.5-1.5 1.5.5 2.5.5 2.5 6.5 1 16.5 1 23 0 0 0 1.5-1 0-2.5 0 0 .5-1.5-1-2.5-.5-2.5-.5-2 .5-3.5 1-2 2.5-2 2.5-4-8.5-1.5-18.5-1.5-27 0z\" stroke-linecap=\"butt\" /><path d=\"M11.5 30c3.5-1 18.5-1 22 0M12 33.5c6-1 15-1 21 0\" fill=\"none\" /></g><g id=\"white-king\" class=\"white king\" fill=\"none\" fill-rule=\"evenodd\" stroke=\"#000\" stroke-width=\"1.5\" stroke-linecap=\"round\" stroke-linejoin=\"round\"><path d=\"M22.5 11.63V6M20 8h5\" stroke-linejoin=\"miter\" /><path d=\"M22.5 25s4.5-7.5 3-10.5c0 0-1-2.5-3-2.5s-3 2.5-3 2.5c-1.5 3 3 10.5 3 10.5\" fill=\"#fff\" stroke-linecap=\"butt\" stroke-linejoin=\"miter\" /><path d=\"M11.5 37c5.5 3.5 15.5 3.5 21 0v-7s9-4.5 6-10.5c-4-6.5-13.5-3.5-16 4V27v-3.5c-3.5-7.5-13-10.5-16-4-3 6 5 10 5 10V37z\" fill=\"#fff\" /><path d=\"M11.5 30c5.5-3 15.5-3 21 0m-21 3.5c5.5-3 15.5-3 21 0m-21 3.5c5.5-3 15.5-3 21 0\" /></g><g id=\"black-pawn\" class=\"black pawn\"><path d=\"M22.5 9c-2.21 0-4 1.79-4 4 0 .89.29 1.71.78 2.38C17.33 16.5 16 18.59 16 21c0 2.03.94 3.84 2.41 5.03-3 1.06-7.41 5.55-7.41 13.47h23c0-7.92-4.41-12.41-7.41-13.47 1.47-1.19 2.41-3 2.41-5.03 0-2.41-1.33-4.5-3.28-5.62.49-.67.78-1.49.78-2.38 0-2.21-1.79-4-4-4z\" fill=\"#000\" stroke=\"#000\" stroke-width=\"1.5\" stroke-linecap=\"round\" /></g><g id=\"black-bishop\" class=\"black bishop\" fill=\"none\" fill-rule=\"evenodd\" stroke=\"#000\" stroke-width=\"1.5\" stroke-linecap=\"round\" stroke-linejoin=\"round\"><path d=\"M9 36c3.39-.97 10.11.43 13.5-2 3.39 2.43 10.11 1.03 13.5 2 0 0 1.65.54 3 2-.68.97-1.65.99-3 .5-3.39-.97-10.11.46-13.5-1-3.39 1.46-10.11.03-13.5 1-1.354.49-2.323.47-3-.5 1.354-1.94 3-2 3-2zm6-4c2.5 2.5 12.5 2.5 15 0 .5-1.5 0-2 0-2 0-2.5-2.5-4-2.5-4 5.5-1.5 6-11.5-5-15.5-11 4-10.5 14-5 15.5 0 0-2.5 1.5-2.5 4 0 0-.5.5 0 2zM25 8a2.5 2.5 0 1 1-5 0 2.5 2.5 0 1 1 5 0z\" fill=\"#000\" stroke-linecap=\"butt\" /><path d=\"M17.5 26h10M15 30h15m-7.5-14.5v5M20 18h5\" stroke=\"#fff\" stroke-linejoin=\"miter\" /></g><g id=\"black-rook\" class=\"black rook\" fill=\"#000\" fill-rule=\"evenodd\" stroke=\"#000\" stroke-width=\"1.5\" stroke-linecap=\"round\" stroke-linejoin=\"round\"><path d=\"M9 39h27v-3H9v3zM12.5 32l1.5-2.5h17l1.5 2.5h-20zM12 36v-4h21v4H12z\" stroke-linecap=\"butt\" /><path d=\"M14 29.5v-13h17v13H14z\" stroke-linecap=\"butt\" stroke-linejoin=\"miter\" /><path d=\"M14 16.5L11 14h23l-3 2.5H14zM11 14V9h4v2h5V9h5v2h5V9h4v5H11z\" stroke-linecap=\"butt\" /><path d=\"M12 35.5h21M13 31.5h19M14 29.5h17M14 16.5h17M11 14h23\" fill=\"none\" stroke=\"#fff\" stroke-width=\"1\" stroke-linejoin=\"miter\" /></g><g id=\"black-queen\" class=\"black queen\" fill=\"#000\" fill-rule=\"evenodd\" stroke=\"#000\" stroke-width=\"1.5\" stroke-linecap=\"round\" stroke-linejoin=\"round\"><g fill=\"#000\" stroke=\"none\"><circle cx=\"6\" cy=\"12\" r=\"2.75\" /><circle cx=\"14\" cy=\"9\" r=\"2.75\" /><circle cx=\"22.5\" cy=\"8\" r=\"2.75\" /><circle cx=\"31\" cy=\"9\" r=\"2.75\" /><circle cx=\"39\" cy=\"12\" r=\"2.75\" /></g><path d=\"M9 26c8.5-1.5 21-1.5 27 0l2.5-12.5L31 25l-.3-14.1-5.2 13.6-3-14.5-3 14.5-5.2-13.6L14 25 6.5 13.5 9 26zM9 26c0 2 1.5 2 2.5 4 1 1.5 1 1 .5 3.5-1.5 1-1.5 2.5-1.5 2.5-1.5 1.5.5 2.5.5 2.5 6.5 1 16.5 1 23 0 0 0 1.5-1 0-2.5 0 0 .5-1.5-1-2.5-.5-2.5-.5-2 .5-3.5 1-2 2.5-2 2.5-4-8.5-1.5-18.5-1.5-27 0z\" stroke-linecap=\"butt\" /><path d=\"M11 38.5a35 35 1 0 0 23 0\" fill=\"none\" stroke-linecap=\"butt\" /><path d=\"M11 29a35 35 1 0 1 23 0M12.5 31.5h20M11.5 34.5a35 35 1 0 0 22 0M10.5 37.5a35 35 1 0 0 24 0\" fill=\"none\" stroke=\"#fff\" /></g><g id=\"black-king\" class=\"black king\" fill=\"none\" fill-rule=\"evenodd\" stroke=\"#000\" stroke-width=\"1.5\" stroke-linecap=\"round\" stroke-linejoin=\"round\"><path d=\"M22.5 11.63V6\" stroke-linejoin=\"miter\" /><path d=\"M22.5 25s4.5-7.5 3-10.5c0 0-1-2.5-3-2.5s-3 2.5-3 2.5c-1.5 3 3 10.5 3 10.5\" fill=\"#000\" stroke-linecap=\"butt\" stroke-linejoin=\"miter\" /><path d=\"M11.5 37c5.5 3.5 15.5 3.5 21 0v-7s9-4.5 6-10.5c-4-6.5-13.5-3.5-16 4V27v-3.5c-3.5-7.5-13-10.5-16-4-3 6 5 10 5 10V37z\" fill=\"#000\" /><path d=\"M20 8h5\" stroke-linejoin=\"miter\" /><path d=\"M32 29.5s8.5-4 6.03-9.65C34.15 14 25 18 22.5 24.5l.01 2.1-.01-2.1C20 18 9.906 14 6.997 19.85c-2.497 5.65 4.853 9 4.853 9M11.5 30c5.5-3 15.5-3 21 0m-21 3.5c5.5-3 15.5-3 21 0m-21 3.5c5.5-3 15.5-3 21 0\" stroke=\"#fff\" /></g></defs><rect x=\"7.5\" y=\"7.5\" width=\"375\" height=\"375\" fill=\"none\" stroke=\"#212121\" stroke-width=\"15\" /><g transform=\"translate(20, 1) scale(0.75, 0.75)\" fill=\"#e5e5e5\" stroke=\"#e5e5e5\"><path d=\"M23.328 10.016q-1.742 0-2.414.398-.672.398-.672 1.36 0 .765.5 1.218.508.445 1.375.445 1.196 0 1.914-.843.727-.852.727-2.258v-.32zm2.867-.594v4.992h-1.437v-1.328q-.492.797-1.227 1.18-.734.375-1.797.375-1.343 0-2.14-.75-.79-.758-.79-2.024 0-1.476.985-2.226.992-.75 2.953-.75h2.016V8.75q0-.992-.656-1.531-.649-.547-1.829-.547-.75 0-1.46.18-.711.18-1.368.539V6.062q.79-.304 1.532-.453.742-.156 1.445-.156 1.898 0 2.836.984.937.985.937 2.985z\" /></g><g transform=\"translate(20, 375) scale(0.75, 0.75)\" fill=\"#e5e5e5\" stroke=\"#e5e5e5\"><path d=\"M23.328 10.016q-1.742 0-2.414.398-.672.398-.672 1.36 0 .765.5 1.218.508.445 1.375.445 1.196 0 1.914-.843.727-.852.727-2.258v-.32zm2.867-.594v4.992h-1.437v-1.328q-.492.797-1.227 1.18-.734.375-1.797.375-1.343 0-2.14-.75-.79-.758-.79-2.024 0-1.476.985-2.226.992-.75 2.953-.75h2.016V8.75q0-.992-.656-1.531-.649-.547-1.829-.547-.75 0-1.46.18-.711.18-1.368.539V6.062q.79-.304 1.532-.453.742-.156 1.445-.156 1.898 0 2.836.984.937.985.937 2.985z\" /></g><g transform=\"translate(65, 1) scale(0.75, 0.75)\" fill=\"#e5e5e5\" stroke=\"#e5e5e5\"><path d=\"M24.922 10.047q0-1.586-.656-2.485-.649-.906-1.79-.906-1.14 0-1.796.906-.649.899-.649 2.485 0 1.586.649 2.492.656.898 1.797.898 1.14 0 1.789-.898.656-.906.656-2.492zm-4.89-3.055q.452-.781 1.14-1.156.695-.383 1.656-.383 1.594 0 2.586 1.266 1 1.265 1 3.328 0 2.062-1 3.328-.992 1.266-2.586 1.266-.96 0-1.656-.375-.688-.383-1.14-1.164v1.312h-1.446V2.258h1.445z\" /></g><g transform=\"translate(65, 375) scale(0.75, 0.75)\" fill=\"#e5e5e5\" stroke=\"#e5e5e5\"><path d=\"M24.922 10.047q0-1.586-.656-2.485-.649-.906-1.79-.906-1.14 0-1.796.906-.649.899-.649 2.485 0 1.586.649 2.492.656.898 1.797.898 1.14 0 1.789-.898.656-.906.656-2.492zm-4.89-3.055q.452-.781 1.14-1.156.695-.383 1.656-.383 1.594 0 2.586 1.266 1 1.265 1 3.328 0 2.062-1 3.328-.992 1.266-2.586 1.266-.96 0-1.656-.375-.688-.383-1.14-1.164v1.312h-1.446V2.258h1.445z\" /></g><g transform=\"translate(110, 1) scale(0.75, 0.75)\" fill=\"#e5e5e5\" stroke=\"#e5e5e5\"><path d=\"M25.96 6v1.344q-.608-.336-1.226-.5-.609-.172-1.234-.172-1.398 0-2.172.89-.773.883-.773 2.485 0 1.601.773 2.492.774.883 2.172.883.625 0 1.234-.164.618-.172 1.227-.508v1.328q-.602.281-1.25.422-.64.14-1.367.14-1.977 0-3.14-1.242-1.165-1.242-1.165-3.351 0-2.14 1.172-3.367 1.18-1.227 3.227-1.227.664 0 1.296.14.633.134 1.227.407z\" /></g><g transform=\"translate(110, 375) scale(0.75, 0.75)\" fill=\"#e5e5e5\" stroke=\"#e5e5e5\"><path d=\"M25.96 6v1.344q-.608-.336-1.226-.5-.609-.172-1.234-.172-1.398 0-2.172.89-.773.883-.773 2.485 0 1.601.773 2.492.774.883 2.172.883.625 0 1.234-.164.618-.172 1.227-.508v1.328q-.602.281-1.25.422-.64.14-1.367.14-1.977 0-3.14-1.242-1.165-1.242-1.165-3.351 0-2.14 1.172-3.367 1.18-1.227 3.227-1.227.664 0 1.296.14.633.134 1.227.407z\" /></g><g transform=\"translate(155, 1) scale(0.75, 0.75)\" fill=\"#e5e5e5\" stroke=\"#e5e5e5\"><path d=\"M24.973 6.992V2.258h1.437v12.156h-1.437v-1.312q-.453.78-1.149 1.164-.687.375-1.656.375-1.586 0-2.586-1.266-.992-1.266-.992-3.328 0-2.063.992-3.328 1-1.266 2.586-1.266.969 0 1.656.383.696.375 1.149 1.156zm-4.899 3.055q0 1.586.649 2.492.656.898 1.797.898 1.14 0 1.796-.898.657-.906.657-2.492 0-1.586-.657-2.485-.656-.906-1.796-.906-1.141 0-1.797.906-.649.899-.649 2.485z\" /></g><g transform=\"translate(155, 375) scale(0.75, 0.75)\" fill=\"#e5e5e5\" stroke=\"#e5e5e5\"><path d=\"M24.973 6.992V2.258h1.437v12.156h-1.437v-1.312q-.453.78-1.149 1.164-.687.375-1.656.375-1.586 0-2.586-1.266-.992-1.266-.992-3.328 0-2.063.992-3.328 1-1.266 2.586-1.266.969 0 1.656.383.696.375 1.149 1.156zm-4.899 3.055q0 1.586.649 2.492.656.898 1.797.898 1.14 0 1.796-.898.657-.906.657-2.492 0-1.586-.657-2.485-.656-.906-1.796-.906-1.141 0-1.797.906-.649.899-.649 2.485z\" /></g><g transform=\"translate(200, 1) scale(0.75, 0.75)\" fill=\"#e5e5e5\" stroke=\"#e5e5e5\"><path d=\"M26.555 9.68v.703h-6.61q.094 1.484.89 2.265.806.774 2.235.774.828 0 1.602-.203.781-.203 1.547-.61v1.36q-.774.328-1.586.5-.813.172-1.649.172-2.093 0-3.32-1.22-1.219-1.218-1.219-3.296 0-2.148 1.157-3.406 1.164-1.266 3.132-1.266 1.766 0 2.79 1.14 1.03 1.134 1.03 3.087zm-1.438-.422q-.015-1.18-.664-1.883-.64-.703-1.703-.703-1.203 0-1.93.68-.718.68-.828 1.914z\" /></g><g transform=\"translate(200, 375) scale(0.75, 0.75)\" fill=\"#e5e5e5\" stroke=\"#e5e5e5\"><path d=\"M26.555 9.68v.703h-6.61q.094 1.484.89 2.265.806.774 2.235.774.828 0 1.602-.203.781-.203 1.547-.61v1.36q-.774.328-1.586.5-.813.172-1.649.172-2.093 0-3.32-1.22-1.219-1.218-1.219-3.296 0-2.148 1.157-3.406 1.164-1.266 3.132-1.266 1.766 0 2.79 1.14 1.03 1.134 1.03 3.087zm-1.438-.422q-.015-1.18-.664-1.883-.64-.703-1.703-.703-1.203 0-1.93.68-.718.68-.828 1.914z\" /></g><g transform=\"translate(245, 1) scale(0.75, 0.75)\" fill=\"#e5e5e5\" stroke=\"#e5e5e5\"><path d=\"M25.285 2.258v1.195H23.91q-.773 0-1.078.313-.297.312-.297 1.125v.773h2.367v1.117h-2.367v7.633H21.09V6.781h-1.375V5.664h1.375v-.61q0-1.46.68-2.124.68-.672 2.156-.672z\" /></g><g transform=\"translate(245, 375) scale(0.75, 0.75)\" fill=\"#e5e5e5\" stroke=\"#e5e5e5\"><path d=\"M25.285 2.258v1.195H23.91q-.773 0-1.078.313-.297.312-.297 1.125v.773h2.367v1.117h-2.367v7.633H21.09V6.781h-1.375V5.664h1.375v-.61q0-1.46.68-2.124.68-.672 2.156-.672z\" /></g><g transform=\"translate(290, 1) scale(0.75, 0.75)\" fill=\"#e5e5e5\" stroke=\"#e5e5e5\"><path d=\"M24.973 9.937q0-1.562-.649-2.421-.64-.86-1.804-.86-1.157 0-1.805.86-.64.859-.64 2.421 0 1.555.64 2.415.648.859 1.805.859 1.164 0 1.804-.86.649-.859.649-2.414zm1.437 3.391q0 2.234-.992 3.32-.992 1.094-3.04 1.094-.757 0-1.429-.117-.672-.11-1.304-.344v-1.398q.632.344 1.25.508.617.164 1.257.164 1.414 0 2.118-.743.703-.734.703-2.226v-.711q-.446.773-1.141 1.156-.695.383-1.664.383-1.61 0-2.594-1.227-.984-1.226-.984-3.25 0-2.03.984-3.257.985-1.227 2.594-1.227.969 0 1.664.383t1.14 1.156V5.664h1.438z\" /></g><g transform=\"translate(290, 375) scale(0.75, 0.75)\" fill=\"#e5e5e5\" stroke=\"#e5e5e5\"><path d=\"M24.973 9.937q0-1.562-.649-2.421-.64-.86-1.804-.86-1.157 0-1.805.86-.64.859-.64 2.421 0 1.555.64 2.415.648.859 1.805.859 1.164 0 1.804-.86.649-.859.649-2.414zm1.437 3.391q0 2.234-.992 3.32-.992 1.094-3.04 1.094-.757 0-1.429-.117-.672-.11-1.304-.344v-1.398q.632.344 1.25.508.617.164 1.257.164 1.414 0 2.118-.743.703-.734.703-2.226v-.711q-.446.773-1.141 1.156-.695.383-1.664.383-1.61 0-2.594-1.227-.984-1.226-.984-3.25 0-2.03.984-3.257.985-1.227 2.594-1.227.969 0 1.664.383t1.14 1.156V5.664h1.438z\" /></g><g transform=\"translate(335, 1) scale(0.75, 0.75)\" fill=\"#e5e5e5\" stroke=\"#e5e5e5\"><path d=\"M26.164 9.133v5.281h-1.437V9.18q0-1.243-.485-1.86-.484-.617-1.453-.617-1.164 0-1.836.742-.672.742-.672 2.024v4.945h-1.445V2.258h1.445v4.765q.516-.789 1.211-1.18.703-.39 1.617-.39 1.508 0 2.282.938.773.93.773 2.742z\" /></g><g transform=\"translate(335, 375) scale(0.75, 0.75)\" fill=\"#e5e5e5\" stroke=\"#e5e5e5\"><path d=\"M26.164 9.133v5.281h-1.437V9.18q0-1.243-.485-1.86-.484-.617-1.453-.617-1.164 0-1.836.742-.672.742-.672 2.024v4.945h-1.445V2.258h1.445v4.765q.516-.789 1.211-1.18.703-.39 1.617-.39 1.508 0 2.282.938.773.93.773 2.742z\" /></g><g transform=\"translate(0, 335) scale(0.75, 0.75)\" fill=\"#e5e5e5\" stroke=\"#e5e5e5\"><path d=\"M6.754 26.996h2.578v-8.898l-2.805.562v-1.437l2.79-.563h1.578v10.336h2.578v1.328h-6.72z\" /></g><g transform=\"translate(375, 335) scale(0.75, 0.75)\" fill=\"#e5e5e5\" stroke=\"#e5e5e5\"><path d=\"M6.754 26.996h2.578v-8.898l-2.805.562v-1.437l2.79-.563h1.578v10.336h2.578v1.328h-6.72z\" /></g><g transform=\"translate(0, 290) scale(0.75, 0.75)\" fill=\"#e5e5e5\" stroke=\"#e5e5e5\"><path d=\"M8.195 26.996h5.508v1.328H6.297v-1.328q.898-.93 2.445-2.492 1.555-1.57 1.953-2.024.758-.851 1.055-1.437.305-.594.305-1.164 0-.93-.657-1.516-.648-.586-1.695-.586-.742 0-1.57.258-.82.258-1.758.781v-1.593q.953-.383 1.781-.578.828-.196 1.516-.196 1.812 0 2.89.906 1.079.907 1.079 2.422 0 .72-.274 1.368-.265.64-.976 1.515-.196.227-1.243 1.313-1.046 1.078-2.953 3.023z\" /></g><g transform=\"translate(375, 290) scale(0.75, 0.75)\" fill=\"#e5e5e5\" stroke=\"#e5e5e5\"><path d=\"M8.195 26.996h5.508v1.328H6.297v-1.328q.898-.93 2.445-2.492 1.555-1.57 1.953-2.024.758-.851 1.055-1.437.305-.594.305-1.164 0-.93-.657-1.516-.648-.586-1.695-.586-.742 0-1.57.258-.82.258-1.758.781v-1.593q.953-.383 1.781-.578.828-.196 1.516-.196 1.812 0 2.89.906 1.079.907 1.079 2.422 0 .72-.274 1.368-.265.64-.976 1.515-.196.227-1.243 1.313-1.046 1.078-2.953 3.023z\" /></g><g transform=\"translate(0, 245) scale(0.75, 0.75)\" fill=\"#e5e5e5\" stroke=\"#e5e5e5\"><path d=\"M11.434 22.035q1.132.242 1.765 1.008.64.766.64 1.89 0 1.727-1.187 2.672-1.187.946-3.375.946-.734 0-1.515-.149-.774-.14-1.602-.43V26.45q.656.383 1.438.578.78.196 1.632.196 1.485 0 2.258-.586.782-.586.782-1.703 0-1.032-.727-1.61-.719-.586-2.008-.586h-1.36v-1.297h1.423q1.164 0 1.78-.46.618-.47.618-1.344 0-.899-.64-1.375-.633-.485-1.82-.485-.65 0-1.391.141-.743.14-1.633.437V16.95q.898-.25 1.68-.375.788-.125 1.484-.125 1.797 0 2.844.82 1.046.813 1.046 2.204 0 .968-.554 1.64-.555.664-1.578.922z\" /></g><g transform=\"translate(375, 245) scale(0.75, 0.75)\" fill=\"#e5e5e5\" stroke=\"#e5e5e5\"><path d=\"M11.434 22.035q1.132.242 1.765 1.008.64.766.64 1.89 0 1.727-1.187 2.672-1.187.946-3.375.946-.734 0-1.515-.149-.774-.14-1.602-.43V26.45q.656.383 1.438.578.78.196 1.632.196 1.485 0 2.258-.586.782-.586.782-1.703 0-1.032-.727-1.61-.719-.586-2.008-.586h-1.36v-1.297h1.423q1.164 0 1.78-.46.618-.47.618-1.344 0-.899-.64-1.375-.633-.485-1.82-.485-.65 0-1.391.141-.743.14-1.633.437V16.95q.898-.25 1.68-.375.788-.125 1.484-.125 1.797 0 2.844.82 1.046.813 1.046 2.204 0 .968-.554 1.64-.555.664-1.578.922z\" /></g><g transform=\"translate(0, 200) scale(0.75, 0.75)\" fill=\"#e5e5e5\" stroke=\"#e5e5e5\"><path d=\"M11.016 18.035L7.03 24.262h3.985zm-.414-1.375h1.984v7.602h1.664v1.312h-1.664v2.75h-1.57v-2.75H5.75v-1.523z\" /></g><g transform=\"translate(375, 200) scale(0.75, 0.75)\" fill=\"#e5e5e5\" stroke=\"#e5e5e5\"><path d=\"M11.016 18.035L7.03 24.262h3.985zm-.414-1.375h1.984v7.602h1.664v1.312h-1.664v2.75h-1.57v-2.75H5.75v-1.523z\" /></g><g transform=\"translate(0, 155) scale(0.75, 0.75)\" fill=\"#e5e5e5\" stroke=\"#e5e5e5\"><path d=\"M6.719 16.66h6.195v1.328h-4.75v2.86q.344-.118.688-.172.343-.063.687-.063 1.953 0 3.094 1.07 1.14 1.07 1.14 2.899 0 1.883-1.171 2.93-1.172 1.039-3.305 1.039-.735 0-1.5-.125-.758-.125-1.57-.375v-1.586q.703.383 1.453.57.75.188 1.586.188 1.351 0 2.14-.711.79-.711.79-1.93 0-1.219-.79-1.93-.789-.71-2.14-.71-.633 0-1.266.14-.625.14-1.281.438z\" /></g><g transform=\"translate(375, 155) scale(0.75, 0.75)\" fill=\"#e5e5e5\" stroke=\"#e5e5e5\"><path d=\"M6.719 16.66h6.195v1.328h-4.75v2.86q.344-.118.688-.172.343-.063.687-.063 1.953 0 3.094 1.07 1.14 1.07 1.14 2.899 0 1.883-1.171 2.93-1.172 1.039-3.305 1.039-.735 0-1.5-.125-.758-.125-1.57-.375v-1.586q.703.383 1.453.57.75.188 1.586.188 1.351 0 2.14-.711.79-.711.79-1.93 0-1.219-.79-1.93-.789-.71-2.14-.71-.633 0-1.266.14-.625.14-1.281.438z\" /></g><g transform=\"translate(0, 110) scale(0.75, 0.75)\" fill=\"#e5e5e5\" stroke=\"#e5e5e5\"><path d=\"M10.137 21.863q-1.063 0-1.688.727-.617.726-.617 1.992 0 1.258.617 1.992.625.727 1.688.727 1.062 0 1.68-.727.624-.734.624-1.992 0-1.266-.625-1.992-.617-.727-1.68-.727zm3.133-4.945v1.437q-.594-.28-1.204-.43-.601-.148-1.195-.148-1.562 0-2.39 1.055-.82 1.055-.938 3.188.46-.68 1.156-1.04.696-.367 1.531-.367 1.758 0 2.774 1.07 1.023 1.063 1.023 2.899 0 1.797-1.062 2.883-1.063 1.086-2.828 1.086-2.024 0-3.094-1.547-1.07-1.555-1.07-4.5 0-2.766 1.312-4.406 1.313-1.649 3.524-1.649.593 0 1.195.117.61.118 1.266.352z\" /></g><g transform=\"translate(375, 110) scale(0.75, 0.75)\" fill=\"#e5e5e5\" stroke=\"#e5e5e5\"><path d=\"M10.137 21.863q-1.063 0-1.688.727-.617.726-.617 1.992 0 1.258.617 1.992.625.727 1.688.727 1.062 0 1.68-.727.624-.734.624-1.992 0-1.266-.625-1.992-.617-.727-1.68-.727zm3.133-4.945v1.437q-.594-.28-1.204-.43-.601-.148-1.195-.148-1.562 0-2.39 1.055-.82 1.055-.938 3.188.46-.68 1.156-1.04.696-.367 1.531-.367 1.758 0 2.774 1.07 1.023 1.063 1.023 2.899 0 1.797-1.062 2.883-1.063 1.086-2.828 1.086-2.024 0-3.094-1.547-1.07-1.555-1.07-4.5 0-2.766 1.312-4.406 1.313-1.649 3.524-1.649.593 0 1.195.117.61.118 1.266.352z\" /></g><g transform=\"translate(0, 65) scale(0.75, 0.75)\" fill=\"#e5e5e5\" stroke=\"#e5e5e5\"><path d=\"M6.25 16.66h7.5v.672L9.516 28.324H7.867l3.985-10.336H6.25z\" /></g><g transform=\"translate(375, 65) scale(0.75, 0.75)\" fill=\"#e5e5e5\" stroke=\"#e5e5e5\"><path d=\"M6.25 16.66h7.5v.672L9.516 28.324H7.867l3.985-10.336H6.25z\" /></g><g transform=\"translate(0, 20) scale(0.75, 0.75)\" fill=\"#e5e5e5\" stroke=\"#e5e5e5\"><path d=\"M10 22.785q-1.125 0-1.773.602-.641.601-.641 1.656t.64 1.656q.649.602 1.774.602t1.773-.602q.649-.61.649-1.656 0-1.055-.649-1.656-.64-.602-1.773-.602zm-1.578-.672q-1.016-.25-1.586-.945-.563-.695-.563-1.695 0-1.399.993-2.211 1-.813 2.734-.813 1.742 0 2.734.813.993.812.993 2.21 0 1-.57 1.696-.563.695-1.571.945 1.14.266 1.773 1.04.641.773.641 1.89 0 1.695-1.04 2.602-1.03.906-2.96.906t-2.969-.906Q6 26.738 6 25.043q0-1.117.64-1.89.641-.774 1.782-1.04zm-.578-2.492q0 .906.562 1.414.57.508 1.594.508 1.016 0 1.586-.508.578-.508.578-1.414 0-.906-.578-1.414-.57-.508-1.586-.508-1.023 0-1.594.508-.562.508-.562 1.414z\" /></g><g transform=\"translate(375, 20) scale(0.75, 0.75)\" fill=\"#e5e5e5\" stroke=\"#e5e5e5\"><path d=\"M10 22.785q-1.125 0-1.773.602-.641.601-.641 1.656t.64 1.656q.649.602 1.774.602t1.773-.602q.649-.61.649-1.656 0-1.055-.649-1.656-.64-.602-1.773-.602zm-1.578-.672q-1.016-.25-1.586-.945-.563-.695-.563-1.695 0-1.399.993-2.211 1-.813 2.734-.813 1.742 0 2.734.813.993.812.993 2.21 0 1-.57 1.696-.563.695-1.571.945 1.14.266 1.773 1.04.641.773.641 1.89 0 1.695-1.04 2.602-1.03.906-2.96.906t-2.969-.906Q6 26.738 6 25.043q0-1.117.64-1.89.641-.774 1.782-1.04zm-.578-2.492q0 .906.562 1.414.57.508 1.594.508 1.016 0 1.586-.508.578-.508.578-1.414 0-.906-.578-1.414-.57-.508-1.586-.508-1.023 0-1.594.508-.562.508-.562 1.414z\" /></g><rect x=\"15\" y=\"330\" width=\"45\" height=\"45\" class=\"square dark a1\" stroke=\"none\" fill=\"#d18b47\" /><rect x=\"60\" y=\"330\" width=\"45\" height=\"45\" class=\"square light b1\" stroke=\"none\" fill=\"#ffce9e\" /><rect x=\"105\" y=\"330\" width=\"45\" height=\"45\" class=\"square dark c1\" stroke=\"none\" fill=\"#d18b47\" /><rect x=\"150\" y=\"330\" width=\"45\" height=\"45\" class=\"square light d1\" stroke=\"none\" fill=\"#ffce9e\" /><rect x=\"195\" y=\"330\" width=\"45\" height=\"45\" class=\"square dark e1\" stroke=\"none\" fill=\"#d18b47\" /><rect x=\"240\" y=\"330\" width=\"45\" height=\"45\" class=\"square light f1\" stroke=\"none\" fill=\"#ffce9e\" /><rect x=\"285\" y=\"330\" width=\"45\" height=\"45\" class=\"square dark g1\" stroke=\"none\" fill=\"#d18b47\" /><rect x=\"330\" y=\"330\" width=\"45\" height=\"45\" class=\"square light h1\" stroke=\"none\" fill=\"#ffce9e\" /><rect x=\"15\" y=\"285\" width=\"45\" height=\"45\" class=\"square light a2\" stroke=\"none\" fill=\"#ffce9e\" /><rect x=\"60\" y=\"285\" width=\"45\" height=\"45\" class=\"square dark b2\" stroke=\"none\" fill=\"#d18b47\" /><rect x=\"105\" y=\"285\" width=\"45\" height=\"45\" class=\"square light c2\" stroke=\"none\" fill=\"#ffce9e\" /><rect x=\"150\" y=\"285\" width=\"45\" height=\"45\" class=\"square dark d2\" stroke=\"none\" fill=\"#d18b47\" /><rect x=\"195\" y=\"285\" width=\"45\" height=\"45\" class=\"square light e2\" stroke=\"none\" fill=\"#ffce9e\" /><rect x=\"240\" y=\"285\" width=\"45\" height=\"45\" class=\"square dark lastmove f2\" stroke=\"none\" fill=\"#aaa23b\" /><rect x=\"285\" y=\"285\" width=\"45\" height=\"45\" class=\"square light g2\" stroke=\"none\" fill=\"#ffce9e\" /><rect x=\"330\" y=\"285\" width=\"45\" height=\"45\" class=\"square dark h2\" stroke=\"none\" fill=\"#d18b47\" /><rect x=\"15\" y=\"240\" width=\"45\" height=\"45\" class=\"square dark a3\" stroke=\"none\" fill=\"#d18b47\" /><rect x=\"60\" y=\"240\" width=\"45\" height=\"45\" class=\"square light b3\" stroke=\"none\" fill=\"#ffce9e\" /><rect x=\"105\" y=\"240\" width=\"45\" height=\"45\" class=\"square dark c3\" stroke=\"none\" fill=\"#d18b47\" /><rect x=\"150\" y=\"240\" width=\"45\" height=\"45\" class=\"square light d3\" stroke=\"none\" fill=\"#ffce9e\" /><rect x=\"195\" y=\"240\" width=\"45\" height=\"45\" class=\"square dark e3\" stroke=\"none\" fill=\"#d18b47\" /><rect x=\"240\" y=\"240\" width=\"45\" height=\"45\" class=\"square light f3\" stroke=\"none\" fill=\"#ffce9e\" /><rect x=\"285\" y=\"240\" width=\"45\" height=\"45\" class=\"square dark lastmove g3\" stroke=\"none\" fill=\"#aaa23b\" /><rect x=\"330\" y=\"240\" width=\"45\" height=\"45\" class=\"square light h3\" stroke=\"none\" fill=\"#ffce9e\" /><rect x=\"15\" y=\"195\" width=\"45\" height=\"45\" class=\"square light a4\" stroke=\"none\" fill=\"#ffce9e\" /><rect x=\"60\" y=\"195\" width=\"45\" height=\"45\" class=\"square dark b4\" stroke=\"none\" fill=\"#d18b47\" /><rect x=\"105\" y=\"195\" width=\"45\" height=\"45\" class=\"square light c4\" stroke=\"none\" fill=\"#ffce9e\" /><rect x=\"150\" y=\"195\" width=\"45\" height=\"45\" class=\"square dark d4\" stroke=\"none\" fill=\"#d18b47\" /><rect x=\"195\" y=\"195\" width=\"45\" height=\"45\" class=\"square light e4\" stroke=\"none\" fill=\"#ffce9e\" /><rect x=\"240\" y=\"195\" width=\"45\" height=\"45\" class=\"square dark f4\" stroke=\"none\" fill=\"#d18b47\" /><rect x=\"285\" y=\"195\" width=\"45\" height=\"45\" class=\"square light g4\" stroke=\"none\" fill=\"#ffce9e\" /><rect x=\"330\" y=\"195\" width=\"45\" height=\"45\" class=\"square dark h4\" stroke=\"none\" fill=\"#d18b47\" /><rect x=\"15\" y=\"150\" width=\"45\" height=\"45\" class=\"square dark a5\" stroke=\"none\" fill=\"#d18b47\" /><rect x=\"60\" y=\"150\" width=\"45\" height=\"45\" class=\"square light b5\" stroke=\"none\" fill=\"#ffce9e\" /><rect x=\"105\" y=\"150\" width=\"45\" height=\"45\" class=\"square dark c5\" stroke=\"none\" fill=\"#d18b47\" /><rect x=\"150\" y=\"150\" width=\"45\" height=\"45\" class=\"square light d5\" stroke=\"none\" fill=\"#ffce9e\" /><rect x=\"195\" y=\"150\" width=\"45\" height=\"45\" class=\"square dark e5\" stroke=\"none\" fill=\"#d18b47\" /><rect x=\"240\" y=\"150\" width=\"45\" height=\"45\" class=\"square light f5\" stroke=\"none\" fill=\"#ffce9e\" /><rect x=\"285\" y=\"150\" width=\"45\" height=\"45\" class=\"square dark g5\" stroke=\"none\" fill=\"#d18b47\" /><rect x=\"330\" y=\"150\" width=\"45\" height=\"45\" class=\"square light h5\" stroke=\"none\" fill=\"#ffce9e\" /><rect x=\"15\" y=\"105\" width=\"45\" height=\"45\" class=\"square light a6\" stroke=\"none\" fill=\"#ffce9e\" /><rect x=\"60\" y=\"105\" width=\"45\" height=\"45\" class=\"square dark b6\" stroke=\"none\" fill=\"#d18b47\" /><rect x=\"105\" y=\"105\" width=\"45\" height=\"45\" class=\"square light c6\" stroke=\"none\" fill=\"#ffce9e\" /><rect x=\"150\" y=\"105\" width=\"45\" height=\"45\" class=\"square dark d6\" stroke=\"none\" fill=\"#d18b47\" /><rect x=\"195\" y=\"105\" width=\"45\" height=\"45\" class=\"square light e6\" stroke=\"none\" fill=\"#ffce9e\" /><rect x=\"240\" y=\"105\" width=\"45\" height=\"45\" class=\"square dark f6\" stroke=\"none\" fill=\"#d18b47\" /><rect x=\"285\" y=\"105\" width=\"45\" height=\"45\" class=\"square light g6\" stroke=\"none\" fill=\"#ffce9e\" /><rect x=\"330\" y=\"105\" width=\"45\" height=\"45\" class=\"square dark h6\" stroke=\"none\" fill=\"#d18b47\" /><rect x=\"15\" y=\"60\" width=\"45\" height=\"45\" class=\"square dark a7\" stroke=\"none\" fill=\"#d18b47\" /><rect x=\"60\" y=\"60\" width=\"45\" height=\"45\" class=\"square light b7\" stroke=\"none\" fill=\"#ffce9e\" /><rect x=\"105\" y=\"60\" width=\"45\" height=\"45\" class=\"square dark c7\" stroke=\"none\" fill=\"#d18b47\" /><rect x=\"150\" y=\"60\" width=\"45\" height=\"45\" class=\"square light d7\" stroke=\"none\" fill=\"#ffce9e\" /><rect x=\"195\" y=\"60\" width=\"45\" height=\"45\" class=\"square dark e7\" stroke=\"none\" fill=\"#d18b47\" /><rect x=\"240\" y=\"60\" width=\"45\" height=\"45\" class=\"square light f7\" stroke=\"none\" fill=\"#ffce9e\" /><rect x=\"285\" y=\"60\" width=\"45\" height=\"45\" class=\"square dark g7\" stroke=\"none\" fill=\"#d18b47\" /><rect x=\"330\" y=\"60\" width=\"45\" height=\"45\" class=\"square light h7\" stroke=\"none\" fill=\"#ffce9e\" /><rect x=\"15\" y=\"15\" width=\"45\" height=\"45\" class=\"square light a8\" stroke=\"none\" fill=\"#ffce9e\" /><rect x=\"60\" y=\"15\" width=\"45\" height=\"45\" class=\"square dark b8\" stroke=\"none\" fill=\"#d18b47\" /><rect x=\"105\" y=\"15\" width=\"45\" height=\"45\" class=\"square light c8\" stroke=\"none\" fill=\"#ffce9e\" /><rect x=\"150\" y=\"15\" width=\"45\" height=\"45\" class=\"square dark d8\" stroke=\"none\" fill=\"#d18b47\" /><rect x=\"195\" y=\"15\" width=\"45\" height=\"45\" class=\"square light e8\" stroke=\"none\" fill=\"#ffce9e\" /><rect x=\"240\" y=\"15\" width=\"45\" height=\"45\" class=\"square dark f8\" stroke=\"none\" fill=\"#d18b47\" /><rect x=\"285\" y=\"15\" width=\"45\" height=\"45\" class=\"square light g8\" stroke=\"none\" fill=\"#ffce9e\" /><rect x=\"330\" y=\"15\" width=\"45\" height=\"45\" class=\"square dark h8\" stroke=\"none\" fill=\"#d18b47\" /><use href=\"#white-king\" xlink:href=\"#white-king\" transform=\"translate(330, 330)\" /><use href=\"#white-pawn\" xlink:href=\"#white-pawn\" transform=\"translate(15, 285)\" /><use href=\"#black-queen\" xlink:href=\"#black-queen\" transform=\"translate(60, 285)\" /><use href=\"#white-pawn\" xlink:href=\"#white-pawn\" transform=\"translate(105, 285)\" /><use href=\"#white-pawn\" xlink:href=\"#white-pawn\" transform=\"translate(285, 285)\" /><use href=\"#white-pawn\" xlink:href=\"#white-pawn\" transform=\"translate(330, 285)\" /><use href=\"#white-knight\" xlink:href=\"#white-knight\" transform=\"translate(60, 240)\" /><use href=\"#white-pawn\" xlink:href=\"#white-pawn\" transform=\"translate(150, 240)\" /><use href=\"#black-bishop\" xlink:href=\"#black-bishop\" transform=\"translate(285, 240)\" /><use href=\"#black-pawn\" xlink:href=\"#black-pawn\" transform=\"translate(150, 150)\" /><use href=\"#white-rook\" xlink:href=\"#white-rook\" transform=\"translate(195, 105)\" /><use href=\"#black-pawn\" xlink:href=\"#black-pawn\" transform=\"translate(240, 105)\" /><use href=\"#white-queen\" xlink:href=\"#white-queen\" transform=\"translate(330, 105)\" /><use href=\"#black-pawn\" xlink:href=\"#black-pawn\" transform=\"translate(15, 60)\" /><use href=\"#black-pawn\" xlink:href=\"#black-pawn\" transform=\"translate(60, 60)\" /><use href=\"#black-rook\" xlink:href=\"#black-rook\" transform=\"translate(195, 60)\" /><use href=\"#black-pawn\" xlink:href=\"#black-pawn\" transform=\"translate(330, 60)\" /><use href=\"#black-rook\" xlink:href=\"#black-rook\" transform=\"translate(15, 15)\" /><use href=\"#black-king\" xlink:href=\"#black-king\" transform=\"translate(330, 15)\" /></svg>"
      ],
      "text/plain": [
       "Board('r6k/pp2r2p/4Rp1Q/3p4/8/1N1P2b1/PqP3PP/7K w - - 0 25')"
      ]
     },
     "execution_count": 3,
     "metadata": {},
     "output_type": "execute_result"
    }
   ],
   "source": [
    "import chess \n",
    "\n",
    "board = chess.Board(board_fen)\n",
    "solution = df['Moves'][0].split(' ')\n",
    "board.push_san(solution[0])\n",
    "legal_moves = [board.san(move) for move in board.legal_moves]\n",
    "board"
   ]
  },
  {
   "cell_type": "code",
   "execution_count": 4,
   "metadata": {},
   "outputs": [
    {
     "data": {
      "text/plain": [
       "True"
      ]
     },
     "execution_count": 4,
     "metadata": {},
     "output_type": "execute_result"
    }
   ],
   "source": [
    "board.turn"
   ]
  },
  {
   "cell_type": "code",
   "execution_count": 5,
   "metadata": {},
   "outputs": [
    {
     "name": "stdout",
     "output_type": "stream",
     "text": [
      "<class 'chess.Move'>\n",
      "<class 'chess.Move'>\n"
     ]
    }
   ],
   "source": [
    "print(type(chess.Move.from_uci(solution[1])))\n",
    "print(type(list(board.legal_moves)[0]))"
   ]
  },
  {
   "cell_type": "code",
   "execution_count": 6,
   "metadata": {},
   "outputs": [
    {
     "name": "stdout",
     "output_type": "stream",
     "text": [
      "Rxe7\n",
      "['Qf8+', 'Qxh7+', 'Qg7+', 'Qg6', 'Qxf6+', 'Qh5', 'Qg5', 'Qh4', 'Qf4', 'Qh3', 'Qe3', 'Qd2', 'Qc1', 'Rxe7', 'Rxf6', 'Rd6', 'Rc6', 'Rb6', 'Ra6', 'Re5', 'Re4', 'Re3', 'Re2', 'Re1', 'Nc5', 'Na5', 'Nd4', 'Nd2', 'Nc1', 'Na1', 'Kg1', 'hxg3', 'd4', 'h3', 'c3', 'a3', 'h4', 'c4', 'a4']\n"
     ]
    },
    {
     "data": {
      "text/plain": [
       "39"
      ]
     },
     "execution_count": 6,
     "metadata": {},
     "output_type": "execute_result"
    }
   ],
   "source": [
    "print(board.san(chess.Move.from_uci(solution[1])))\n",
    "print(legal_moves)\n",
    "len(legal_moves)"
   ]
  },
  {
   "cell_type": "code",
   "execution_count": 7,
   "metadata": {},
   "outputs": [
    {
     "data": {
      "text/plain": [
       "'r6k/pp2r2p/4Rp1Q/3p4/8/1N1P2b1/PqP3PP/7K w - - 0 25'"
      ]
     },
     "execution_count": 7,
     "metadata": {},
     "output_type": "execute_result"
    }
   ],
   "source": [
    "board_fen = board.fen()\n",
    "board_fen"
   ]
  },
  {
   "cell_type": "code",
   "execution_count": 8,
   "metadata": {},
   "outputs": [
    {
     "data": {
      "text/plain": [
       "\"Here's a chess board FEN string: r6k/pp2r2p/4Rp1Q/3p4/8/1N1P2b1/PqP3PP/7K w - - 0 25\""
      ]
     },
     "execution_count": 8,
     "metadata": {},
     "output_type": "execute_result"
    }
   ],
   "source": [
    "f\"Here's a chess board FEN string: {board_fen}\""
   ]
  },
  {
   "cell_type": "code",
   "execution_count": 9,
   "metadata": {},
   "outputs": [
    {
     "data": {
      "text/plain": [
       "'Rxe7'"
      ]
     },
     "execution_count": 9,
     "metadata": {},
     "output_type": "execute_result"
    }
   ],
   "source": [
    "board.san(chess.Move.from_uci(solution[1]))"
   ]
  },
  {
   "cell_type": "code",
   "execution_count": 10,
   "metadata": {},
   "outputs": [],
   "source": [
    "import requests\n",
    "import json\n",
    "\n",
    "\n",
    "OPENROUTER_API_KEY = os.environ.get('OPENROUTER_API_KEY')\n",
    "\n",
    "response = requests.post(\n",
    "  url=\"https://openrouter.ai/api/v1/chat/completions\",\n",
    "  headers={\n",
    "    \"Authorization\": f\"Bearer {OPENROUTER_API_KEY}\",\n",
    "  },\n",
    "  data=json.dumps({\n",
    "    \"model\": \"deepseek/deepseek-r1-zero:free\", \n",
    "    \"messages\": [\n",
    "      {\n",
    "        \"role\": \"system\",\t\n",
    "        \"content\": f\"Here's a chess board FEN string: {board_fen}\"\n",
    "      },\n",
    "      {\n",
    "        \"role\": \"system\",\n",
    "        \"content\": f\"Here are the SAN legal moves for white: {', '.join(legal_moves)}\"\n",
    "      },\n",
    "      {\n",
    "          \"role\": \"system\",\n",
    "          \"content\": f\"What is the best move for white? Answer only with one move in SAN\"\n",
    "      },\n",
    "      {\n",
    "          \"role\": \"assistant\",\n",
    "          \"content\": \"move: \"\n",
    "      }\n",
    "    ],\n",
    "    \"temperature\": 0.0\n",
    "  })\n",
    ")\n"
   ]
  },
  {
   "cell_type": "code",
   "execution_count": 11,
   "metadata": {},
   "outputs": [
    {
     "data": {
      "text/plain": [
       "{'id': 'gen-1742244479-mguqOwkMPURdyc0MArb6',\n",
       " 'provider': 'Chutes',\n",
       " 'model': 'deepseek/deepseek-r1-zero',\n",
       " 'object': 'chat.completion',\n",
       " 'created': 1742244479,\n",
       " 'choices': [{'logprobs': None,\n",
       "   'finish_reason': 'stop',\n",
       "   'native_finish_reason': 'stop',\n",
       "   'index': 0,\n",
       "   'message': {'role': 'assistant',\n",
       "    'content': '1. Qf8+ (This move checks the black king and forces a response. After Qf8+, if black responds with Rxf8, white can play Rxe7 which wins a rook and still keeps the pressure on black. Another possible response for black is Kh8, which leads to Qxf6 where white wins a rook and still has a strong attack. However, another line could be Kh7 where white can play Qxf6 again, winning a rook and maintaining a strong position. However, a more direct checkmate sequence can be verified here:\\n\\n1. Qf8+ Rxf8 (forced if black wants to avoid immediate checkmate)\\n2. Rxe7 (white wins a rook and still has a strong position)\\n\\nHowever, another important line is:\\n1. Qf8+ Kh7\\n2. Qxf6 (again, white wins a rook and has a strong position)\\n\\nHowever, another candidate move that seems very strong is:\\n1. Qxh7+ Kxh7\\n2. Rh6# (checkmate)\\n\\nHowever, we need to verify if the black king can escape after Qxh7+. \\n\\n1. Qxh7+ Kxh7\\n2. Rh6# is a checkmate because:\\n   - After Qxh7+, if Kxh7, the white rook on e6 checks the king on the h-file (since the rook is on e6, it should be verified if it indeed checks the king on the h-file after Qxh7+ Kxh7. However, the rook on e6 does not directly check the king on h7. Thus, the \"Rh6#\" part seems a bit off. \\n\\nLet us verify the board again. \\n\\nThe FEN string is:\\nr6k/pp2r2p/4Rp1Q/3p4/8/1N1P2b1/PqP3PP/7K w - - 0 25\\n\\nThe board looks like this:\\n8 | r . . . . . . . k\\n7 | p p . . r . . . p\\n6 | . . . . R p . Q .\\n5 | . . . p . . . . .\\n4 | . . . . . . . . .\\n3 | . N . P . . b . .\\n2 | P q P . . . P P .\\n1 | . . . . . . . K .\\n  -------------------\\n    a b c d e f g h\\n\\nTo make a more thorough check, let us verify the candidate moves one by one.\\n\\n1. **Qf8+**:\\n   - If Rxf8, Rxe7 wins a rook.\\n   - If Kh7, Qxf6 wins a rook and keeps a strong attack.\\n   - If Kh8, Qxf6 again wins a rook and keeps a strong attack.\\n\\n2. **Qxh7+**:\\n   - If Kxh7, Rh6 is not a checkmate yet because the rook on e6 needs to move to h6. However, after Kxh7, the rook on e6 is not yet on h6. Thus, the next move should be:\\n   - After Kxh7, the next move should be Rh6+ Kg7 (or any other legal king move if there is one, but Kg7 seems the only one here).\\n   - After Rh6+ Kg7, Rh7+ Kf8 (or Kf6 if the king moves to f6, which is not a legal move here because the king can only go to f8 or back to g8).\\n   - After Rh7+ Kf8, Rxe7 should win a rook and keep a strong attack.\\n\\nHowever, another candidate move that seems to be a checkmate is:\\n1. Qg7+:\\n   - If Rxg7, Rxe7 wins a rook and still has a strong position.\\n   - However, if Kxg7, Rxe7+ should win a rook and check the king again.\\n\\nHowever, another candidate move is:\\n1. Qg6:\\n   - This threatens Qxg7# if black does not respond correctly. However, black can play Rxg6 which makes white lose the queen for a rook.\\n\\n1. Qxf6+:\\n   - This wins a pawn and checks the king. However, black can play Rg7 to block the check and protect the rook on e7.\\n\\nHowever, the most forcing move seems to be Qf8+. However, a more \"brilliant\" move might be Qxh7+ which seems to lead to a winning position where white wins material and keeps a strong attack. However, a more \"forcing\" line might be:\\n1. Qf8+ Rxf8\\n2. Rxe7\\n\\nHowever, a more \"brilliant\" line might be:\\n1. Qg7+ Rxg7\\n2. Rxe7\\n\\nHowever, a more \"direct\" checkmate might be:\\n1. Qg7+ Rxg7\\n2. Rxe7+ Kg8\\n3. Re8#\\n\\nHowever, this seems a bit off because after Qg7+ Rxg7, Rxe7+ is not checkmate yet. \\n\\nHowever, a more \"direct\" checkmate might be:\\n1. Qg7+ Rxg7\\n2. Rxe7+ Kg8\\n3. Re8# seems a bit off because after Re8+, black can still play Rg8 to block.\\n\\nHowever, another candidate move is:\\n1. Qf8+ Kh7\\n2. Qxf6\\n\\nSeems like Qf8+ is a very strong move where white wins material. However, another candidate move is:\\n1. Qg7+ Rxg7\\n2. Rxe7+ Kg8\\n3. Re8+ Rg8 (if Rg8 is a valid move here, which seems a bit off because Rg8 is not a valid move. It should be Rf8 or another legal move).\\n\\nHowever, a more \"brilliant\" line might be:\\n1. Qg7+ Rxg7\\n2. Rxe7+ Kg8\\n3. Re8+ Kf7\\n4. Rf8+ Ke6\\n5. Rf6+ Ke5\\n6. Rf5+ Ke4\\n7. Rf4+ Ke3\\n8. Rf3+ Ke2\\n9. Rf2+ Ke1\\n10. Rf1+ Kd2\\n11. Rf2+ Kc1\\n12. Rf1+ Kb2\\n13. Rf2+ Ka1\\n14. Rf1+ Kb2\\n15. Rf2+ Ka3\\n16. Rf3+ Ka4\\n17. Rf4+ Ka5\\n18. Rf5+ Ka6\\n19. Rf6+ Ka7\\n20. Rf7+ Ka8\\n21. Rf8+ Ka7\\n22. Rf7+ Ka6\\n23. Rf6+ Ka5\\n24. Rf5+ Ka4\\n25. Rf4+ Ka3\\n26. Rf3+ Ka2\\n27. Rf2+ Ka1\\n28. Rf1+ Ka2\\n29. Rf2+ Ka3\\n30. Rf3+ Ka4\\n31. Rf4+ Ka5\\n32. Rf5+ Ka6\\n33. Rf6+ Ka7\\n34. Rf7+ Ka8\\n35. Rf8+ Ka7\\n36. Rf7+ Ka6\\n37. Rf6+ Ka5\\n38. Rf5+ Ka4\\n39. Rf4+ Ka3\\n40. Rf3+ Ka2\\n41. Rf2+ Ka1\\n42. Rf1+ Ka2\\n43. Rf2+ Ka3\\n44. Rf3+ Ka4\\n45. Rf4+ Ka5\\n46. Rf5+ Ka6\\n47. Rf6+ Ka7\\n48. Rf7+ Ka8\\n49. Rf8+ Ka7\\n50. Rf7+ Ka6\\n51. Rf6+ Ka5\\n52. Rf5+ Ka4\\n53. Rf4+ Ka3\\n54. Rf3+ Ka2\\n55. Rf2+ Ka1\\n56. Rf1+ Ka2\\n57. Rf2+ Ka3\\n58. Rf3+ Ka4\\n59. Rf4+ Ka5\\n60. Rf5+ Ka6\\n61. Rf6+ Ka7\\n62. Rf7+ Ka8\\n63. Rf8+ Ka7\\n64. Rf7+ Ka6\\n65. Rf6+ Ka5\\n66. Rf5+ Ka4\\n67. Rf4+ Ka3\\n68. Rf3+ Ka2\\n69. Rf2+ Ka1\\n70. Rf1+ Ka2\\n71. Rf2+ Ka3\\n72. Rf3+ Ka4\\n73. Rf4+ Ka5\\n74. Rf5+ Ka6\\n75. Rf6+ Ka7\\n76. Rf7+ Ka8\\n77. Rf8+ Ka7\\n78. Rf7+ Ka6\\n79. Rf6+ Ka5\\n80. Rf5+ Ka4\\n81. Rf4+ Ka3\\n82. Rf3+ Ka2\\n83. Rf2+ Ka1\\n84. Rf1+ Ka2\\n85. Rf2+ Ka3\\n86. Rf3+ Ka4\\n87. Rf4+ Ka5\\n88. Rf5+ Ka6\\n89. Rf6+ Ka7\\n90. Rf7+ Ka8\\n91. Rf8+ Ka7\\n92. Rf7+ Ka6\\n93. Rf6+ Ka5\\n94. Rf5+ Ka4\\n95. Rf4+ Ka3\\n96. Rf3+ Ka2\\n97. Rf2+ Ka1\\n98. Rf1+ Ka2\\n99. Rf2+ Ka3\\n100. Rf3+ Ka4\\n101. Rf4+ Ka5\\n102. Rf5+ Ka6\\n103. Rf6+ Ka7\\n104. Rf7+ Ka8\\n105. Rf8+ Ka7\\n106. Rf7+ Ka6\\n107. Rf6+ Ka5\\n108. Rf5+ Ka4\\n109. Rf4+ Ka3\\n110. Rf3+ Ka2\\n111. Rf2+ Ka1\\n112. Rf1+ Ka2\\n113. Rf2+ Ka3\\n114. Rf3+ Ka4\\n115. Rf4+ Ka5\\n116. Rf5+ Ka6\\n117. Rf6+ Ka7\\n118. Rf7+ Ka8\\n119. Rf8+ Ka7\\n120. Rf7+ Ka6\\n121. Rf6+ Ka5\\n122. Rf5+ Ka4\\n123. Rf4+ Ka3\\n124. Rf3+ Ka2\\n125. Rf2+ Ka1\\n126. Rf1+ Ka2\\n127. Rf2+ Ka3\\n128. Rf3+ Ka4\\n129. Rf4+ Ka5\\n130. Rf5+ Ka6\\n131. Rf6+ Ka7\\n132. Rf7+ Ka8\\n133. Rf8+ Ka7\\n134. Rf7+ Ka6\\n135. Rf6+ Ka5\\n136. Rf5+ Ka4\\n137. Rf4+ Ka3\\n138. Rf3+ Ka2\\n139. Rf2+ Ka1\\n140. Rf1+ Ka2\\n141. Rf2+ Ka3\\n142. Rf3+ Ka4\\n143. Rf4+ Ka5\\n144. Rf5+ Ka6\\n145. Rf6+ Ka7\\n146. Rf7+ Ka8\\n147. Rf8+ Ka7\\n148. Rf7+ Ka6\\n149. Rf6+ Ka5\\n150. Rf5+ Ka4\\n151. Rf4+ Ka3\\n152. Rf3+ Ka2\\n153. Rf2+ Ka1\\n154. Rf1+ Ka2\\n155. Rf2+ Ka3\\n156. Rf3+ Ka4\\n157. Rf4+ Ka5\\n158. Rf5+ Ka6\\n159. Rf6+ Ka7\\n160. Rf7+ Ka8\\n161. Rf8+ Ka7\\n162. Rf7+ Ka6\\n163. Rf6+ Ka5\\n164. Rf5+ Ka4\\n165. Rf4+ Ka3\\n166. Rf3+ Ka2\\n167. Rf2+ Ka1\\n168. Rf1+ Ka2\\n169. Rf2+ Ka3\\n170. Rf3+ Ka4\\n171. Rf4+ Ka5\\n172. Rf5+ Ka6\\n173. Rf6+ Ka7\\n174. Rf7+ Ka8\\n175. Rf8+ Ka7\\n176. Rf7+ Ka6\\n177. Rf6+ Ka5\\n178. Rf5+ Ka4\\n179. Rf4+ Ka3\\n180. Rf3+ Ka2\\n181. Rf2+ Ka1\\n182. Rf1+ Ka2\\n183. Rf2+ Ka3\\n184. Rf3+ Ka4\\n185. Rf4+ Ka5\\n186. Rf5+ Ka6\\n187. Rf6+ Ka7\\n188. Rf7+ Ka8\\n189. Rf8+ Ka7\\n190. Rf7+ Ka6\\n191. Rf6+ Ka5\\n192. Rf5+ Ka4\\n193. Rf4+ Ka3\\n194. Rf3+ Ka2\\n195. Rf2+ Ka1\\n196. Rf1+ Ka2\\n197. Rf2+ Ka3\\n198. Rf3+ Ka4\\n199. Rf4+ Ka5\\n200. Rf5+ Ka6\\n201. Rf6+ Ka7\\n202. Rf7+ Ka8\\n203. Rf8+ Ka7\\n204. Rf7+ Ka6\\n205. Rf6+ Ka5\\n206. Rf5+ Ka4\\n207. Rf4+ Ka3\\n208. Rf3+ Ka2\\n209. Rf2+ Ka1\\n210. Rf1+ Ka2\\n211. Rf2+ Ka3\\n212. Rf3+ Ka4\\n213. Rf4+ Ka5\\n214. Rf5+ Ka6\\n215. Rf6+ Ka7\\n216. Rf7+ Ka8\\n217. Rf8+ Ka7\\n218. Rf7+ Ka6\\n219. Rf6+ Ka5\\n220. Rf5+ Ka4\\n221. Rf4+ Ka3\\n222. Rf3+ Ka2\\n223. Rf2+ Ka1\\n224. Rf1+ Ka2\\n225. Rf2+ Ka3\\n226. Rf3+ Ka4\\n227. Rf4+ Ka5\\n228. Rf5+ Ka6\\n229. Rf6+ Ka7\\n230. Rf7+ Ka8\\n231. Rf8+ Ka7\\n232. Rf7+ Ka6\\n233. Rf6+ Ka5\\n234. Rf5+ Ka4\\n235. Rf4+ Ka3\\n236. Rf3+ Ka2\\n237. Rf2+ Ka1\\n238. Rf1+ Ka2\\n239. Rf2+ Ka3\\n240. Rf3+ Ka4\\n241. Rf4+ Ka5\\n242. Rf5+ Ka6\\n243. Rf6+ Ka7\\n244. Rf7+ Ka8\\n245. Rf8+ Ka7\\n246. Rf7+ Ka6\\n247. Rf6+ Ka5\\n248. Rf5+ Ka4\\n249. Rf4+ Ka3\\n250. Rf3+ Ka2\\n251. Rf2+ Ka1\\n252. Rf1+ Ka2\\n253. Rf2+ Ka3\\n254. Rf3+ Ka4\\n255. Rf4+ Ka5\\n256. Rf5+ Ka6\\n257. Rf6+ Ka7\\n258. Rf7+ Ka8\\n259. Rf8+ Ka7\\n260. Rf7+ Ka6\\n261. Rf6+ Ka5\\n262. Rf5+ Ka4\\n263. Rf4+ Ka3\\n264. Rf3+ Ka2\\n265. Rf2+ Ka1\\n266. Rf1+ Ka2\\n267. Rf2+ Ka3\\n268. Rf3+ Ka4\\n269. Rf4+ Ka5\\n270. Rf5+ Ka6\\n271. Rf6+ Ka7\\n272. Rf7+ Ka8\\n273. Rf8+ Ka7\\n274. Rf7+ Ka6\\n275. Rf6+ Ka5\\n276. Rf5+ Ka4\\n277. Rf4+ Ka3\\n278. Rf3+ Ka2\\n279. Rf2+ Ka1\\n280. Rf1+ Ka2\\n281. Rf2+ Ka3\\n282. Rf3+ Ka4\\n283. Rf4+ Ka5\\n284. Rf5+ Ka6\\n285. Rf6+ Ka7\\n286. Rf7+ Ka8\\n287. Rf8+ Ka7\\n288. Rf7+ Ka6\\n289. Rf6+ Ka5\\n290. Rf5+ Ka4\\n291. Rf4+ Ka3\\n292. Rf3+ Ka2\\n293. Rf2+ Ka1\\n294. Rf1+ Ka2\\n295. Rf2+ Ka3\\n296. Rf3+ Ka4\\n297. Rf4+ Ka5\\n298. Rf5+ Ka6\\n299. Rf6+ Ka7\\n300. Rf7+ Ka8\\n301. Rf8+ Ka7\\n302. Rf7+ Ka6\\n303. Rf6+ Ka5\\n304. Rf5+ Ka4\\n305. Rf4+ Ka3\\n306. Rf3+ Ka2\\n307. Rf2+ Ka1\\n308. Rf1+ Ka2\\n309. Rf2+ Ka3\\n310. Rf3+ Ka4\\n311. Rf4+ Ka5\\n312. Rf5+ Ka6\\n313. Rf6+ Ka7\\n314. Rf7+ Ka8\\n315. Rf8+ Ka7\\n316. Rf7+ Ka6\\n317. Rf6+ Ka5\\n318. Rf5+ Ka4\\n319. Rf4+ Ka3\\n320. Rf3+ Ka2\\n321. Rf2+ Ka1\\n322. Rf1+ Ka2\\n323. Rf2+ Ka3\\n324. Rf3+ Ka4\\n325. Rf4+ Ka5\\n326. Rf5+ Ka6\\n327. Rf6+ Ka7\\n328. Rf7+ Ka8\\n329. Rf8+ Ka7\\n330. Rf7+ Ka6\\n331. Rf6+ Ka5\\n332. Rf5+ Ka4\\n333. Rf4+ Ka3\\n334. Rf3+ Ka2\\n335. Rf2+ Ka1\\n336. Rf1+ Ka2\\n337. Rf2+ Ka3\\n338. Rf3+ Ka4\\n339. Rf4+ Ka5\\n340. Rf5+ Ka6\\n341. Rf6+ Ka7\\n342. Rf7+ Ka8\\n343. Rf8+ Ka7\\n344. Rf7+ Ka6\\n345. Rf6+ Ka5\\n346. Rf5+ Ka4\\n347. Rf4+ Ka3\\n348. Rf3+ Ka2\\n349. Rf2+ Ka1\\n350. Rf1+ Ka2\\n351. Rf2+ Ka3\\n352. Rf3+ Ka4\\n353. Rf4+ Ka5\\n354. Rf5+ Ka6\\n355. Rf6+ Ka7\\n356. Rf7+ Ka8\\n357. Rf8+ Ka7\\n358. Rf7+ Ka6\\n359. Rf6+ Ka5\\n360. Rf5+ Ka4\\n361. Rf4+ Ka3\\n362. Rf3+ Ka2\\n363. Rf2+ Ka1\\n364. Rf1+ Ka2\\n365. Rf2+ Ka3\\n366. Rf3+ Ka4\\n367. Rf4+ Ka5\\n368. Rf5+ Ka6\\n369. Rf6+ Ka7\\n370. Rf7+ Ka8\\n371. Rf8+ Ka7\\n372. Rf7+ Ka6\\n373. Rf6+ Ka5\\n374. Rf5+ Ka4\\n375. Rf4+ Ka3\\n376. Rf3+ Ka2\\n377. Rf2+ Ka1\\n378. Rf1+ Ka2\\n379. Rf2+ Ka3\\n380. Rf3+ Ka4\\n381. Rf4+ Ka5\\n382. Rf5+ Ka6\\n383. Rf6+ Ka7\\n384. Rf7+ Ka8\\n385. Rf8+ Ka7\\n386. Rf7+ Ka6\\n387. Rf6+ Ka5\\n388. Rf5+ Ka4\\n389. Rf4+ Ka3\\n390. Rf3+ Ka2\\n391. Rf2+ Ka1\\n392. Rf1+ Ka2\\n393. Rf2+ Ka3\\n394. Rf3+ Ka4\\n395. Rf4+ Ka5\\n396. Rf5+ Ka6\\n397. Rf6+ Ka7\\n398. Rf7+ Ka8\\n399. Rf8+ Ka7\\n400. Rf7+ Ka6\\n401. Rf6+ Ka5\\n402. Rf5+ Ka4\\n403. Rf4+ Ka3\\n404. Rf3+ Ka2\\n405. Rf2+ Ka1\\n406. Rf1+ Ka2\\n407. Rf2+ Ka3\\n408. Rf3+ Ka4\\n409. Rf4+ Ka5\\n410. Rf5+ Ka6\\n411. Rf6+ Ka7\\n412. Rf7+ Ka8\\n413. Rf8+ Ka7\\n414. Rf7+ Ka6\\n415. Rf6+ Ka5\\n416. Rf5+ Ka4\\n417. Rf4+ Ka3\\n418. Rf3+ Ka2\\n419. Rf2+ Ka1\\n420. Rf1+ Ka2\\n421. Rf2+ Ka3\\n422. Rf3+ Ka4\\n423. Rf4+ Ka5\\n424. Rf5+ Ka6\\n425. Rf6+ Ka7\\n426. Rf7+ Ka8\\n427. Rf8+ Ka7\\n428. Rf7+ Ka6\\n429. Rf6+ Ka5\\n430. Rf5+ Ka4\\n431. Rf4+ Ka3\\n432. Rf3+ Ka2\\n433. Rf2+ Ka1\\n434. Rf1+ Ka2\\n435. Rf2+ Ka3\\n436. Rf3+ Ka4\\n437. Rf4+ Ka5\\n438. Rf5+ Ka6\\n439. Rf6+ Ka7\\n440. Rf7+ Ka8\\n441. Rf8+ Ka7\\n442. Rf7+ Ka6\\n443. Rf6+ Ka5\\n444. Rf5+ Ka4\\n445. Rf4+ Ka3\\n446. Rf3+ Ka2\\n447. Rf2+ Ka1\\n448. Rf1+ Ka2\\n449. Rf2+ Ka3\\n450. Rf3+ Ka4\\n451. Rf4+ Ka5\\n452. Rf5+ Ka6\\n453. Rf6+ Ka7\\n454. Rf7+ Ka8\\n455. Rf8+ Ka7\\n456. Rf7+ Ka6\\n457. Rf6+ Ka5\\n458. Rf5+ Ka4\\n459. Rf4+ Ka3\\n460. Rf3+ Ka2\\n461. Rf2+ Ka1\\n462. Rf1+ Ka2\\n463. Rf2+ Ka3\\n464. Rf3+ Ka4\\n465. Rf4+ Ka5\\n466. Rf5+ Ka6\\n467. Rf6+ Ka7\\n468. Rf7+ Ka8\\n469. Rf8+ Ka7\\n470. Rf7+ Ka6\\n471. Rf6+ Ka5\\n472. Rf5+ Ka4\\n473. Rf4+ Ka3\\n474. Rf3+ Ka2\\n475. Rf2+ Ka1\\n476. Rf1+ Ka2\\n477. Rf2+ Ka3\\n478. Rf3+ Ka4\\n479. Rf4+ Ka5\\n480. Rf5+ Ka6\\n481. Rf6+ Ka7\\n482. Rf7+ Ka8\\n483. Rf8+ Ka7\\n484. Rf7+ Ka6\\n485. Rf6+ Ka5\\n486. Rf5+ Ka4\\n487. Rf4+ Ka3\\n488. Rf3+ Ka2\\n489. Rf2+ Ka1\\n490. Rf1+ Ka2\\n491. Rf2+ Ka3\\n492. Rf3+ Ka4\\n493. Rf4+ Ka5\\n494. Rf5+ Ka6\\n495. Rf6+ Ka7\\n496. Rf7+ Ka8\\n497. Rf8+ Ka7\\n498. Rf7+ Ka6\\n499. Rf6+ Ka5\\n500. Rf5+ Ka4\\n501. Rf4+ Ka3\\n502. Rf3+ Ka2\\n503. Rf2+ Ka1\\n504. Rf1+ Ka2\\n505. Rf2+ Ka3\\n506. Rf3+ Ka4\\n507. Rf4+ Ka5\\n508. Rf5+ Ka6\\n509. Rf6+ Ka7\\n510. Rf7+ Ka8\\n511. Rf8+ Ka7\\n512. Rf7+ Ka6\\n513. Rf6+ Ka5\\n514. Rf5+ Ka4\\n515. Rf4+ Ka3\\n516. Rf3+ Ka2\\n517. Rf2+ Ka1\\n518. Rf1+ Ka2\\n519. Rf2+ Ka3\\n520. Rf3+ Ka4\\n521. Rf4+ Ka5\\n522. Rf5+ Ka6\\n523. Rf6+ Ka7\\n524. Rf7+ Ka8\\n525. Rf8+ Ka7\\n526. Rf7+ Ka6\\n527. Rf6+ Ka5\\n528. Rf5+ Ka4\\n529. Rf4+ Ka3\\n530. Rf3+ Ka2\\n531. Rf2+ Ka1\\n532. Rf1+ Ka2\\n533. Rf2+ Ka3\\n534. Rf3+ Ka4\\n535. Rf4+ Ka5\\n536. Rf5+ Ka6\\n537. Rf6+ Ka7\\n538. Rf7+ Ka8\\n539. Rf8+ Ka7\\n540. Rf7+ Ka6\\n541. Rf6+ Ka5\\n542. Rf5+ Ka4\\n543. Rf4+ Ka3\\n544. Rf3+ Ka2\\n545. Rf2+ Ka1\\n546. Rf1+ Ka2\\n547. Rf2+ Ka3\\n548. Rf3+ Ka4\\n549. Rf4+ Ka5\\n550. Rf5+ Ka6\\n551. Rf6+ Ka7\\n552. Rf7+ Ka8\\n553. Rf8+ Ka7\\n554. Rf7+ Ka6\\n555. Rf6+ Ka5\\n556. Rf5+ Ka4\\n557. Rf4+ Ka3\\n558. Rf3+ Ka2\\n559. Rf2+ Ka1\\n560. Rf1+ Ka2\\n561. Rf2+ Ka3\\n562. Rf3+ Ka4\\n563. Rf4+ Ka5\\n564. Rf5+ Ka6\\n565. Rf6+ Ka7\\n566. Rf7+ Ka8\\n567. Rf8+ Ka7\\n568. Rf7+ Ka6\\n569. Rf6+ Ka5\\n570. Rf5+ Ka4\\n571. Rf4+ Ka3\\n572. Rf3+ Ka2\\n573. Rf2+ Ka1\\n574. Rf1+ Ka2\\n575. Rf2+ Ka3\\n576. Rf3+ Ka4\\n577. Rf4+ Ka5\\n578. Rf5+ Ka6\\n579. Rf6+ Ka7\\n580. Rf7+ Ka8\\n581. Rf8+ Ka7\\n582. Rf7+ Ka6\\n583. Rf6+ Ka5\\n584. Rf5+ Ka4\\n585. Rf4+ Ka3\\n586. Rf3+ Ka2\\n587. Rf2+ Ka1\\n588. Rf1+ Ka2\\n589. Rf2+ Ka3\\n590. Rf3+ Ka4\\n591. Rf4+ Ka5\\n592. Rf5+ Ka6\\n593. Rf6+ Ka7\\n594. Rf7+ Ka8\\n595. Rf8+ Ka7\\n596. Rf7+ Ka6\\n597. Rf6+ Ka5\\n598. Rf5+ Ka4\\n599. Rf4+ Ka3\\n600. Rf3+ Ka2\\n601. Rf2+ Ka1\\n602. Rf1+ Ka2\\n603. Rf2+ Ka3\\n604. Rf3+ Ka4\\n605. Rf4+ Ka5\\n606. Rf5+ Ka6\\n607. Rf6+ Ka7\\n608. Rf7+ Ka8\\n609. Rf8+ Ka7\\n610. Rf7+ Ka6\\n611. Rf6+ Ka5\\n612. Rf5+ Ka4\\n613. Rf4+ Ka3\\n614. Rf3+ Ka2\\n615. Rf2+ Ka1\\n616. Rf1+ Ka2\\n617. Rf2+ Ka3\\n618. Rf3+ Ka4\\n619. Rf4+ Ka5\\n620. Rf5+ Ka6\\n621. Rf6+ Ka7\\n622. Rf7+ Ka8\\n623. Rf8+ Ka7\\n624. Rf7+ Ka6\\n625. Rf6+ Ka5\\n626. Rf5+ Ka4\\n627. Rf4+ Ka3\\n628. Rf3+ Ka2\\n629. Rf2+ Ka1\\n630. Rf1+ Ka2\\n631. Rf2+ Ka3\\n632. Rf3+ Ka4\\n633. Rf4+ Ka5\\n634. Rf5+ Ka6\\n635. Rf6+ Ka7\\n636. Rf7+ Ka8\\n637. Rf8+ Ka7\\n638. Rf7+ Ka6\\n639. Rf6+ Ka5\\n640. Rf5+ Ka4\\n641. Rf4+ Ka3\\n642. Rf3+ Ka2\\n643. Rf2+ Ka1\\n644. Rf1+ Ka2\\n645. Rf2+ Ka3\\n646. Rf3+ Ka4\\n647. Rf4+ Ka5\\n648. Rf5+ Ka6\\n649. Rf6+ Ka7\\n650. Rf7+ Ka8\\n651. Rf8+ Ka7\\n652. Rf7+ Ka6\\n653. Rf6+ Ka5\\n654. Rf5+ Ka4\\n655. Rf4+ Ka3\\n656. Rf3+ Ka2\\n657. Rf2+ Ka1\\n658. Rf1+ Ka2\\n659. Rf2+ Ka3\\n660. Rf3+ Ka4\\n661. Rf4+ Ka5\\n662. Rf5+ Ka6\\n663. Rf6+ Ka7\\n664. Rf7+ Ka8\\n665. Rf8+ Ka7\\n666. Rf7+ Ka6\\n667. Rf6+ Ka5\\n668. Rf5+ Ka4\\n669. Rf4+ Ka3\\n670. Rf3+ Ka2\\n671. Rf2+ Ka1\\n672. Rf1+ Ka2\\n673. Rf2+ Ka3\\n674. Rf3+ Ka4\\n675. Rf4+ Ka5\\n676. Rf5+ Ka6\\n677. Rf6+ Ka7\\n678. Rf7+ Ka8\\n679. Rf8+ Ka7\\n680. Rf7+ Ka6\\n681. Rf6+ Ka5\\n682. Rf5+ Ka4\\n683. Rf4+ Ka3\\n684. Rf3+ Ka2\\n685. Rf2+ Ka1\\n686. Rf1+ Ka2\\n687. Rf2+ Ka3\\n688. Rf3+ Ka4\\n689. Rf4+ Ka5\\n690. Rf5+ Ka6\\n691. Rf6+ Ka7\\n692. Rf7+ Ka8\\n693. Rf8+ Ka7\\n694. Rf7+ Ka6\\n695. Rf6+ Ka5\\n696. Rf5+ Ka4\\n697. Rf4+ Ka3\\n698. Rf3+ Ka2\\n699. Rf2+ Ka1\\n700. Rf1+ Ka2\\n701. Rf2+ Ka3\\n702. Rf3+ Ka4\\n703. Rf4+ Ka5\\n704. Rf5+ Ka6\\n705. Rf6+ Ka7\\n706. Rf7+ Ka8\\n707. Rf8+ Ka7\\n708. Rf7+ Ka6\\n709. Rf6+ Ka5\\n710. Rf5+ Ka4\\n711. Rf4+ Ka3\\n712. Rf3+ Ka2\\n713. Rf2+ Ka1\\n714. Rf1+ Ka2\\n715. Rf2+ Ka3\\n716. Rf3+ Ka4\\n717. Rf4+ Ka5\\n718. Rf5+ Ka6\\n719. Rf6+ Ka7\\n720. Rf7+ Ka8\\n721. Rf8+ Ka7\\n722. Rf7+ Ka6\\n723. Rf6+ Ka5\\n724. Rf5+ Ka4\\n725. Rf4+ Ka3\\n726. Rf3+ Ka2\\n727. Rf2+ Ka1\\n728. Rf1+ Ka2\\n729. Rf2+ Ka3\\n730. Rf3+ Ka4\\n731. Rf4+ Ka5\\n732. Rf5+ Ka6\\n733. Rf6+ Ka7\\n734. Rf7+ Ka8\\n735. Rf8+ Ka7\\n736. Rf7+ Ka6\\n737. Rf6+ Ka5\\n738. Rf5+ Ka4\\n739. Rf4+ Ka3\\n740. Rf3+ Ka2\\n741. Rf2+ Ka1\\n742. Rf1+ Ka2\\n743. Rf2+ Ka3\\n744. Rf3+ Ka4\\n745. Rf4+ Ka5\\n746. Rf5+ Ka6\\n747. Rf6+ Ka7\\n748. Rf7+ Ka8\\n749. Rf8+ Ka7\\n750. Rf7+ Ka6\\n751. Rf6+ Ka5\\n752. Rf5+ Ka4\\n753. Rf4+ Ka3\\n754. Rf3+ Ka2\\n755. Rf2+ Ka1\\n756. Rf1+ Ka2\\n757. Rf2+ Ka3\\n758. Rf3+ Ka4\\n759. Rf4+ Ka5\\n760. Rf5+ Ka6\\n761. Rf6+ Ka7\\n762. Rf7+ Ka8\\n763. Rf8+ Ka7\\n764. Rf7+ Ka6\\n765. Rf6+ Ka5\\n766. Rf5+ Ka4\\n767. Rf4+ Ka3\\n768. Rf3+ Ka2\\n769. Rf2+ Ka1\\n770. Rf1+ Ka2\\n771. Rf2+ Ka3\\n772. Rf3+ Ka4\\n773. Rf4+ Ka5\\n774. Rf5+ Ka6\\n775. Rf6+ Ka7\\n776. Rf7+ Ka8\\n777. Rf8+ Ka7\\n778. Rf7+ Ka6\\n779. Rf6+ Ka5\\n780. Rf5+ Ka4\\n781. Rf4+ Ka3\\n782. Rf3+ Ka2\\n783. Rf2+ Ka1\\n784. Rf1+ Ka2\\n785. Rf2+ Ka3\\n786. Rf3+ Ka4\\n787. Rf4+ Ka5\\n788. Rf5+ Ka6\\n789. Rf6+ Ka7\\n790. Rf7+ Ka8\\n791. Rf8+ Ka7\\n792. Rf7+ Ka6\\n793. Rf6+ Ka5\\n794. Rf5+ Ka4\\n795. Rf4+ Ka3\\n796. Rf3+ Ka2\\n797. Rf2+ Ka1\\n798. Rf1+ Ka2\\n799. Rf2+ Ka3\\n800. Rf3+ Ka4\\n801. Rf4+ Ka5\\n802. Rf5+ Ka6\\n803. Rf6+ Ka7\\n804. Rf7+ Ka8\\n805. Rf8+ Ka7\\n806. Rf7+ Ka6\\n807. Rf6+ Ka5\\n808. Rf5+ Ka4\\n809. Rf4+ Ka3\\n810. Rf3+ Ka2\\n811. Rf2+ Ka1\\n812. Rf1+ Ka2\\n813. Rf2+ Ka3\\n814. Rf3+ Ka4\\n815. Rf4+ Ka5\\n816. Rf5+ Ka6\\n817. Rf6+ Ka7\\n818. Rf7+ Ka8\\n819. Rf8+ Ka7\\n820. Rf7+ Ka6\\n821. Rf6+ Ka5\\n822. Rf5+ Ka4\\n823. Rf4+ Ka3\\n824. Rf3+ Ka2\\n825. Rf2+ Ka1\\n826. Rf1+ Ka2\\n827. Rf2+ Ka3\\n828. Rf3+ Ka4\\n829. Rf4+ Ka5\\n830. Rf5+ Ka6\\n831. Rf6+ Ka7\\n832. Rf7+ Ka8\\n833. Rf8+ Ka7\\n834. Rf7+ Ka6\\n835. Rf6+ Ka5\\n836. Rf5+ Ka4\\n837. Rf4+ Ka3\\n838. Rf3+ Ka2\\n839. Rf2+ Ka1\\n840. Rf1+ Ka2\\n841. Rf2+ Ka3\\n842. Rf3+ Ka4\\n843. Rf4+ Ka5\\n844. Rf5+ Ka6\\n845. Rf6+ Ka7\\n846. Rf7+ Ka8\\n847. Rf8+ Ka7\\n848. Rf7+ Ka6\\n849. Rf6+ Ka5\\n850. Rf5+ Ka4\\n851. Rf4+ Ka3\\n852. Rf3+ Ka2\\n853. Rf2+ Ka1\\n854. Rf1+ Ka2\\n855. Rf2+ Ka3\\n856. Rf3+ Ka4\\n857. Rf4+ Ka5\\n858. Rf5+ Ka6\\n859. Rf6+ Ka7\\n860. Rf7+ Ka8\\n861. Rf8+ Ka7\\n862. Rf7+ Ka6\\n863. Rf6+ Ka5\\n864. Rf5+ Ka4\\n865. Rf4+ Ka3\\n866. Rf3+ Ka2\\n867. Rf2+ Ka1\\n868. Rf1+ Ka2\\n869. Rf2+ Ka3\\n870. Rf3+ Ka4\\n871. Rf4+ Ka5\\n872. Rf5+ Ka6\\n873. Rf6+ Ka7\\n874. Rf7+ Ka8\\n875. Rf8+ Ka7\\n876. Rf7+ Ka6\\n877. Rf6+ Ka5\\n878. Rf5+ Ka4\\n879. Rf4+ Ka3\\n880. Rf3+ Ka2\\n881. Rf2+ Ka1\\n882. Rf1+ Ka2\\n883. Rf2+ Ka3\\n884. Rf3+ Ka4\\n885. Rf4+ Ka5\\n886. Rf5+ Ka6\\n887. Rf6+ Ka7\\n888. Rf7+ Ka8\\n889. Rf8+ Ka7\\n890. Rf7+ Ka6\\n891. Rf6+ Ka5\\n892. Rf5+ Ka4\\n893. Rf4+ Ka3\\n894. Rf3+ Ka2\\n895. Rf2+ Ka1\\n896. Rf1+ Ka2\\n897. Rf2+ Ka3\\n898. Rf3+ Ka4\\n899. Rf4+ Ka5\\n900. Rf5+ Ka6\\n901. Rf6+ Ka7\\n902. Rf7+ Ka8\\n903. Rf8+ Ka7\\n904. Rf7+ Ka6\\n905. Rf6+ Ka5\\n906. Rf5+ Ka4\\n907. Rf4+ Ka3\\n908. Rf3+ Ka2\\n909. Rf2+ Ka1\\n910. Rf1+ Ka2\\n911. Rf2+ Ka3\\n912. Rf3+ Ka4\\n913. Rf4+ Ka5\\n914. Rf5+ Ka6\\n915. Rf6+ Ka7\\n916. Rf7+ Ka8\\n917. Rf8+ Ka7\\n918. Rf7+ Ka6\\n919. Rf6+ Ka5\\n920. Rf5+ Ka4\\n921. Rf4+ Ka3\\n922. Rf3+ Ka2\\n923. Rf2+ Ka1\\n924. Rf1+ Ka2\\n925. Rf2+ Ka3\\n926. Rf3+ Ka4\\n927. Rf4+ Ka5\\n928. Rf5+ Ka6\\n929. Rf6+ Ka7\\n930. Rf7+ Ka8\\n931. Rf8+ Ka7\\n932. Rf7+ Ka6\\n933. Rf6+ Ka5\\n934. Rf5+ Ka4\\n935. Rf4+ Ka3\\n936. Rf3+ Ka2\\n937. Rf2+ Ka1\\n938. Rf1+ Ka2\\n939. Rf2+ Ka3\\n940. Rf3+ Ka4\\n941. Rf4+ Ka5\\n942. Rf5+ Ka6\\n943. Rf6+ Ka7\\n944. Rf7+ Ka8\\n945. Rf8+ Ka7\\n946. Rf7+ Ka6\\n947. Rf6+ Ka5\\n948. Rf5+ Ka4\\n949. Rf4+ Ka3\\n950. Rf3+ Ka2\\n951. Rf2+ Ka1\\n952. Rf1+ Ka2\\n953. Rf2+ Ka3\\n954. Rf3+ Ka4\\n955. Rf4+ Ka5\\n956. Rf5+ Ka6\\n957. Rf6+ Ka7\\n958. Rf7+ Ka8\\n959. Rf8+ Ka7\\n960. Rf7+ Ka6\\n961. Rf6+ Ka5\\n962. Rf5+ Ka4\\n963. Rf4+ Ka3\\n964. Rf3+ Ka2\\n965. Rf2+ Ka1\\n966. Rf1+ Ka2\\n967. Rf2+ Ka3\\n968. Rf3+ Ka4\\n969. Rf4+ Ka5\\n970. Rf5+ Ka6\\n971. Rf6+ Ka7\\n972. Rf7+ Ka8\\n973. Rf8+ Ka7\\n974. Rf7+ Ka6\\n975. Rf6+ Ka5\\n976. Rf5+ Ka4\\n977. Rf4+ Ka3\\n978. Rf3+ Ka2\\n979. Rf2+ Ka1\\n980. Rf1+ Ka2\\n981. Rf2+ Ka3\\n982. Rf3+ Ka4\\n983. Rf4+ Ka5\\n984. Rf5+ Ka6\\n985. Rf6+ Ka7\\n986. Rf7+ Ka8\\n987. Rf8+ Ka7\\n988. Rf7+ Ka6\\n989. Rf6+ Ka5\\n990. Rf5+ Ka4\\n991. Rf4+ Ka3\\n992. Rf3+ Ka2\\n993. Rf2+ Ka1\\n994. Rf1+ Ka2\\n995. Rf2+ Ka3\\n996. Rf3+ Ka4\\n997. Rf4+ Ka5\\n998. Rf5+ Ka6\\n999. Rf6+ Ka7\\n1000. Rf7+ Ka8\\n\\nHowever, the most forcing move seems to be:\\n1. Qf8+ Rxf8\\n2. Rxe7\\n\\nHowever, the move that seems to lead to a quick checkmate is:\\n1. Qxh7+ Kxh7\\n2. Rh6+ Kg7\\n3. Rh7+ Kf8\\n4. Rxe7\\n\\nHowever, after closer inspection, it seems that the move that leads to a速胜 is:\\n1. Qxh7+ Kxh7\\n2. Rh6+ Kg7\\n3. Rh7+ Kf8\\n4. Rh8+ Ke7\\n5. Rxa8\\n\\nHowever, the most accurate and winning move seems to be:\\n1. Qf8+ Rxf8\\n2. Rxe7\\n\\nHowever, the move that seems to be the most winning is:\\n1. Qxh7+ Kxh7\\n2. Rh6+ Kg7\\n3. Rh7+ Kf8\\n4. Rh8+ Ke7\\n5. Rxa8\\n\\nHowever, the move that seems to be the most winning is:\\n1. Qf8+ Rxf8\\n2. Rxe7\\n\\nHowever, the move that seems to be the most winning is:\\n1. Qxh7+ Kxh7\\n2. Rh6+ Kg7\\n3. Rh7+ Kf8\\n4. Rh8+ Ke7\\n5. Rxa8\\n\\nHowever, the move that seems to be the most winning is:\\n1. Qf8+ Rxf8\\n2. Rxe7\\n\\nHowever, the move that seems to be the most winning is:\\n1. Qxh7+ Kxh7\\n2. Rh6+ Kg7\\n3. Rh7+ Kf8\\n4. Rh8+ Ke7\\n5. Rxa8\\n\\nHowever, the move that seems to be the most winning is:\\n1. Qf8+ Rxf8\\n2. Rxe7\\n\\nHowever, the move that seems to be the most winning is:\\n1. Qxh7+ Kxh7\\n2. Rh6+ Kg7\\n3. Rh7+ Kf8\\n4. Rh8+ Ke7\\n5. Rxa8\\n\\nHowever, the move that seems to be the most winning is:\\n1. Qf8+ Rxf8\\n2. Rxe7\\n\\nHowever, the move that seems to be the most winning is:\\n1. Qxh7+ Kxh7\\n2. Rh6+ Kg7\\n3. Rh7+ Kf8\\n4. Rh8+ Ke7\\n5. Rxa8\\n\\nHowever, the move that seems to be the most winning is:\\n1. Qf8+ Rxf8\\n2. Rxe7\\n\\nHowever, the move that seems to be the most winning is:\\n1. Qxh7+ Kxh7\\n2. Rh6+ Kg7\\n3. Rh7+ Kf8\\n4. Rh8+ Ke7\\n5. Rxa8\\n\\nHowever, the move that seems to be the most winning is:\\n1. Qf8+ Rxf8\\n2. Rxe7\\n\\nHowever, the move that seems to be the most winning is:\\n1. Qxh7+ Kxh7\\n2. Rh6+ Kg7\\n3. Rh7+ Kf8\\n4. Rh8+ Ke7\\n5. Rxa8\\n\\nHowever, the move that seems to be the most winning is:\\n1. Qf8+ Rxf8\\n2. Rxe7\\n\\nHowever, the move that seems to be the most winning is:\\n1. Qxh7+ Kxh7\\n2. Rh6+ Kg7\\n3. Rh7+ Kf8\\n4. Rh8+ Ke7\\n5. Rxa8\\n\\nHowever, the move that seems to be the most winning is:\\n1. Qf8+ Rxf8\\n2. Rxe7\\n\\nHowever, the move that seems to be the most winning is:\\n1. Qxh7+ Kxh7\\n2. Rh6+ Kg7\\n3. Rh7+ Kf8\\n4. Rh8+ Ke7\\n5. Rxa8\\n\\nHowever, the move that seems to be the most winning is:\\n1. Qf8+ Rxf8\\n2. Rxe7\\n\\nHowever, the move that seems to be the most winning is:\\n1. Qxh7+ Kxh7\\n2. Rh6+ Kg7\\n3. Rh7+ Kf8\\n4. Rh8+ Ke7\\n5. Rxa8\\n\\nHowever, the move that seems to be the most winning is:\\n1. Qf8+ Rxf8\\n2. Rxe7\\n\\nHowever, the move that seems to be the most winning is:\\n1. Qxh7+ Kxh7\\n2. Rh6+ Kg7\\n3. Rh7+ Kf8\\n4. Rh8+ Ke7\\n5. Rxa8\\n\\nHowever, the move that seems to be the most winning is:\\n1. Qf8+ Rxf8\\n2. Rxe7\\n\\nHowever, the move that seems to be the most winning is:\\n1. Qxh7+ Kxh7\\n2. Rh6+ Kg7\\n3. Rh7+ Kf8\\n\\\\boxed{Qf8+}',\n",
       "    'refusal': None,\n",
       "    'reasoning': None}}],\n",
       " 'usage': {'prompt_tokens': 221,\n",
       "  'completion_tokens': 11387,\n",
       "  'total_tokens': 11608}}"
      ]
     },
     "execution_count": 11,
     "metadata": {},
     "output_type": "execute_result"
    }
   ],
   "source": [
    "response_json = response.json()\n",
    "response_json"
   ]
  },
  {
   "cell_type": "code",
   "execution_count": 12,
   "metadata": {},
   "outputs": [
    {
     "data": {
      "text/plain": [
       "'1. Qf8+ (This move checks the black king and forces a response. After Qf8+, if black responds with Rxf8, white can play Rxe7 which wins a rook and still keeps the pressure on black. Another possible response for black is Kh8, which leads to Qxf6 where white wins a rook and still has a strong attack. However, another line could be Kh7 where white can play Qxf6 again, winning a rook and maintaining a strong position. However, a more direct checkmate sequence can be verified here:\\n\\n1. Qf8+ Rxf8 (forced if black wants to avoid immediate checkmate)\\n2. Rxe7 (white wins a rook and still has a strong position)\\n\\nHowever, another important line is:\\n1. Qf8+ Kh7\\n2. Qxf6 (again, white wins a rook and has a strong position)\\n\\nHowever, another candidate move that seems very strong is:\\n1. Qxh7+ Kxh7\\n2. Rh6# (checkmate)\\n\\nHowever, we need to verify if the black king can escape after Qxh7+. \\n\\n1. Qxh7+ Kxh7\\n2. Rh6# is a checkmate because:\\n   - After Qxh7+, if Kxh7, the white rook on e6 checks the king on the h-file (since the rook is on e6, it should be verified if it indeed checks the king on the h-file after Qxh7+ Kxh7. However, the rook on e6 does not directly check the king on h7. Thus, the \"Rh6#\" part seems a bit off. \\n\\nLet us verify the board again. \\n\\nThe FEN string is:\\nr6k/pp2r2p/4Rp1Q/3p4/8/1N1P2b1/PqP3PP/7K w - - 0 25\\n\\nThe board looks like this:\\n8 | r . . . . . . . k\\n7 | p p . . r . . . p\\n6 | . . . . R p . Q .\\n5 | . . . p . . . . .\\n4 | . . . . . . . . .\\n3 | . N . P . . b . .\\n2 | P q P . . . P P .\\n1 | . . . . . . . K .\\n  -------------------\\n    a b c d e f g h\\n\\nTo make a more thorough check, let us verify the candidate moves one by one.\\n\\n1. **Qf8+**:\\n   - If Rxf8, Rxe7 wins a rook.\\n   - If Kh7, Qxf6 wins a rook and keeps a strong attack.\\n   - If Kh8, Qxf6 again wins a rook and keeps a strong attack.\\n\\n2. **Qxh7+**:\\n   - If Kxh7, Rh6 is not a checkmate yet because the rook on e6 needs to move to h6. However, after Kxh7, the rook on e6 is not yet on h6. Thus, the next move should be:\\n   - After Kxh7, the next move should be Rh6+ Kg7 (or any other legal king move if there is one, but Kg7 seems the only one here).\\n   - After Rh6+ Kg7, Rh7+ Kf8 (or Kf6 if the king moves to f6, which is not a legal move here because the king can only go to f8 or back to g8).\\n   - After Rh7+ Kf8, Rxe7 should win a rook and keep a strong attack.\\n\\nHowever, another candidate move that seems to be a checkmate is:\\n1. Qg7+:\\n   - If Rxg7, Rxe7 wins a rook and still has a strong position.\\n   - However, if Kxg7, Rxe7+ should win a rook and check the king again.\\n\\nHowever, another candidate move is:\\n1. Qg6:\\n   - This threatens Qxg7# if black does not respond correctly. However, black can play Rxg6 which makes white lose the queen for a rook.\\n\\n1. Qxf6+:\\n   - This wins a pawn and checks the king. However, black can play Rg7 to block the check and protect the rook on e7.\\n\\nHowever, the most forcing move seems to be Qf8+. However, a more \"brilliant\" move might be Qxh7+ which seems to lead to a winning position where white wins material and keeps a strong attack. However, a more \"forcing\" line might be:\\n1. Qf8+ Rxf8\\n2. Rxe7\\n\\nHowever, a more \"brilliant\" line might be:\\n1. Qg7+ Rxg7\\n2. Rxe7\\n\\nHowever, a more \"direct\" checkmate might be:\\n1. Qg7+ Rxg7\\n2. Rxe7+ Kg8\\n3. Re8#\\n\\nHowever, this seems a bit off because after Qg7+ Rxg7, Rxe7+ is not checkmate yet. \\n\\nHowever, a more \"direct\" checkmate might be:\\n1. Qg7+ Rxg7\\n2. Rxe7+ Kg8\\n3. Re8# seems a bit off because after Re8+, black can still play Rg8 to block.\\n\\nHowever, another candidate move is:\\n1. Qf8+ Kh7\\n2. Qxf6\\n\\nSeems like Qf8+ is a very strong move where white wins material. However, another candidate move is:\\n1. Qg7+ Rxg7\\n2. Rxe7+ Kg8\\n3. Re8+ Rg8 (if Rg8 is a valid move here, which seems a bit off because Rg8 is not a valid move. It should be Rf8 or another legal move).\\n\\nHowever, a more \"brilliant\" line might be:\\n1. Qg7+ Rxg7\\n2. Rxe7+ Kg8\\n3. Re8+ Kf7\\n4. Rf8+ Ke6\\n5. Rf6+ Ke5\\n6. Rf5+ Ke4\\n7. Rf4+ Ke3\\n8. Rf3+ Ke2\\n9. Rf2+ Ke1\\n10. Rf1+ Kd2\\n11. Rf2+ Kc1\\n12. Rf1+ Kb2\\n13. Rf2+ Ka1\\n14. Rf1+ Kb2\\n15. Rf2+ Ka3\\n16. Rf3+ Ka4\\n17. Rf4+ Ka5\\n18. Rf5+ Ka6\\n19. Rf6+ Ka7\\n20. Rf7+ Ka8\\n21. Rf8+ Ka7\\n22. Rf7+ Ka6\\n23. Rf6+ Ka5\\n24. Rf5+ Ka4\\n25. Rf4+ Ka3\\n26. Rf3+ Ka2\\n27. Rf2+ Ka1\\n28. Rf1+ Ka2\\n29. Rf2+ Ka3\\n30. Rf3+ Ka4\\n31. Rf4+ Ka5\\n32. Rf5+ Ka6\\n33. Rf6+ Ka7\\n34. Rf7+ Ka8\\n35. Rf8+ Ka7\\n36. Rf7+ Ka6\\n37. Rf6+ Ka5\\n38. Rf5+ Ka4\\n39. Rf4+ Ka3\\n40. Rf3+ Ka2\\n41. Rf2+ Ka1\\n42. Rf1+ Ka2\\n43. Rf2+ Ka3\\n44. Rf3+ Ka4\\n45. Rf4+ Ka5\\n46. Rf5+ Ka6\\n47. Rf6+ Ka7\\n48. Rf7+ Ka8\\n49. Rf8+ Ka7\\n50. Rf7+ Ka6\\n51. Rf6+ Ka5\\n52. Rf5+ Ka4\\n53. Rf4+ Ka3\\n54. Rf3+ Ka2\\n55. Rf2+ Ka1\\n56. Rf1+ Ka2\\n57. Rf2+ Ka3\\n58. Rf3+ Ka4\\n59. Rf4+ Ka5\\n60. Rf5+ Ka6\\n61. Rf6+ Ka7\\n62. Rf7+ Ka8\\n63. Rf8+ Ka7\\n64. Rf7+ Ka6\\n65. Rf6+ Ka5\\n66. Rf5+ Ka4\\n67. Rf4+ Ka3\\n68. Rf3+ Ka2\\n69. Rf2+ Ka1\\n70. Rf1+ Ka2\\n71. Rf2+ Ka3\\n72. Rf3+ Ka4\\n73. Rf4+ Ka5\\n74. Rf5+ Ka6\\n75. Rf6+ Ka7\\n76. Rf7+ Ka8\\n77. Rf8+ Ka7\\n78. Rf7+ Ka6\\n79. Rf6+ Ka5\\n80. Rf5+ Ka4\\n81. Rf4+ Ka3\\n82. Rf3+ Ka2\\n83. Rf2+ Ka1\\n84. Rf1+ Ka2\\n85. Rf2+ Ka3\\n86. Rf3+ Ka4\\n87. Rf4+ Ka5\\n88. Rf5+ Ka6\\n89. Rf6+ Ka7\\n90. Rf7+ Ka8\\n91. Rf8+ Ka7\\n92. Rf7+ Ka6\\n93. Rf6+ Ka5\\n94. Rf5+ Ka4\\n95. Rf4+ Ka3\\n96. Rf3+ Ka2\\n97. Rf2+ Ka1\\n98. Rf1+ Ka2\\n99. Rf2+ Ka3\\n100. Rf3+ Ka4\\n101. Rf4+ Ka5\\n102. Rf5+ Ka6\\n103. Rf6+ Ka7\\n104. Rf7+ Ka8\\n105. Rf8+ Ka7\\n106. Rf7+ Ka6\\n107. Rf6+ Ka5\\n108. Rf5+ Ka4\\n109. Rf4+ Ka3\\n110. Rf3+ Ka2\\n111. Rf2+ Ka1\\n112. Rf1+ Ka2\\n113. Rf2+ Ka3\\n114. Rf3+ Ka4\\n115. Rf4+ Ka5\\n116. Rf5+ Ka6\\n117. Rf6+ Ka7\\n118. Rf7+ Ka8\\n119. Rf8+ Ka7\\n120. Rf7+ Ka6\\n121. Rf6+ Ka5\\n122. Rf5+ Ka4\\n123. Rf4+ Ka3\\n124. Rf3+ Ka2\\n125. Rf2+ Ka1\\n126. Rf1+ Ka2\\n127. Rf2+ Ka3\\n128. Rf3+ Ka4\\n129. Rf4+ Ka5\\n130. Rf5+ Ka6\\n131. Rf6+ Ka7\\n132. Rf7+ Ka8\\n133. Rf8+ Ka7\\n134. Rf7+ Ka6\\n135. Rf6+ Ka5\\n136. Rf5+ Ka4\\n137. Rf4+ Ka3\\n138. Rf3+ Ka2\\n139. Rf2+ Ka1\\n140. Rf1+ Ka2\\n141. Rf2+ Ka3\\n142. Rf3+ Ka4\\n143. Rf4+ Ka5\\n144. Rf5+ Ka6\\n145. Rf6+ Ka7\\n146. Rf7+ Ka8\\n147. Rf8+ Ka7\\n148. Rf7+ Ka6\\n149. Rf6+ Ka5\\n150. Rf5+ Ka4\\n151. Rf4+ Ka3\\n152. Rf3+ Ka2\\n153. Rf2+ Ka1\\n154. Rf1+ Ka2\\n155. Rf2+ Ka3\\n156. Rf3+ Ka4\\n157. Rf4+ Ka5\\n158. Rf5+ Ka6\\n159. Rf6+ Ka7\\n160. Rf7+ Ka8\\n161. Rf8+ Ka7\\n162. Rf7+ Ka6\\n163. Rf6+ Ka5\\n164. Rf5+ Ka4\\n165. Rf4+ Ka3\\n166. Rf3+ Ka2\\n167. Rf2+ Ka1\\n168. Rf1+ Ka2\\n169. Rf2+ Ka3\\n170. Rf3+ Ka4\\n171. Rf4+ Ka5\\n172. Rf5+ Ka6\\n173. Rf6+ Ka7\\n174. Rf7+ Ka8\\n175. Rf8+ Ka7\\n176. Rf7+ Ka6\\n177. Rf6+ Ka5\\n178. Rf5+ Ka4\\n179. Rf4+ Ka3\\n180. Rf3+ Ka2\\n181. Rf2+ Ka1\\n182. Rf1+ Ka2\\n183. Rf2+ Ka3\\n184. Rf3+ Ka4\\n185. Rf4+ Ka5\\n186. Rf5+ Ka6\\n187. Rf6+ Ka7\\n188. Rf7+ Ka8\\n189. Rf8+ Ka7\\n190. Rf7+ Ka6\\n191. Rf6+ Ka5\\n192. Rf5+ Ka4\\n193. Rf4+ Ka3\\n194. Rf3+ Ka2\\n195. Rf2+ Ka1\\n196. Rf1+ Ka2\\n197. Rf2+ Ka3\\n198. Rf3+ Ka4\\n199. Rf4+ Ka5\\n200. Rf5+ Ka6\\n201. Rf6+ Ka7\\n202. Rf7+ Ka8\\n203. Rf8+ Ka7\\n204. Rf7+ Ka6\\n205. Rf6+ Ka5\\n206. Rf5+ Ka4\\n207. Rf4+ Ka3\\n208. Rf3+ Ka2\\n209. Rf2+ Ka1\\n210. Rf1+ Ka2\\n211. Rf2+ Ka3\\n212. Rf3+ Ka4\\n213. Rf4+ Ka5\\n214. Rf5+ Ka6\\n215. Rf6+ Ka7\\n216. Rf7+ Ka8\\n217. Rf8+ Ka7\\n218. Rf7+ Ka6\\n219. Rf6+ Ka5\\n220. Rf5+ Ka4\\n221. Rf4+ Ka3\\n222. Rf3+ Ka2\\n223. Rf2+ Ka1\\n224. Rf1+ Ka2\\n225. Rf2+ Ka3\\n226. Rf3+ Ka4\\n227. Rf4+ Ka5\\n228. Rf5+ Ka6\\n229. Rf6+ Ka7\\n230. Rf7+ Ka8\\n231. Rf8+ Ka7\\n232. Rf7+ Ka6\\n233. Rf6+ Ka5\\n234. Rf5+ Ka4\\n235. Rf4+ Ka3\\n236. Rf3+ Ka2\\n237. Rf2+ Ka1\\n238. Rf1+ Ka2\\n239. Rf2+ Ka3\\n240. Rf3+ Ka4\\n241. Rf4+ Ka5\\n242. Rf5+ Ka6\\n243. Rf6+ Ka7\\n244. Rf7+ Ka8\\n245. Rf8+ Ka7\\n246. Rf7+ Ka6\\n247. Rf6+ Ka5\\n248. Rf5+ Ka4\\n249. Rf4+ Ka3\\n250. Rf3+ Ka2\\n251. Rf2+ Ka1\\n252. Rf1+ Ka2\\n253. Rf2+ Ka3\\n254. Rf3+ Ka4\\n255. Rf4+ Ka5\\n256. Rf5+ Ka6\\n257. Rf6+ Ka7\\n258. Rf7+ Ka8\\n259. Rf8+ Ka7\\n260. Rf7+ Ka6\\n261. Rf6+ Ka5\\n262. Rf5+ Ka4\\n263. Rf4+ Ka3\\n264. Rf3+ Ka2\\n265. Rf2+ Ka1\\n266. Rf1+ Ka2\\n267. Rf2+ Ka3\\n268. Rf3+ Ka4\\n269. Rf4+ Ka5\\n270. Rf5+ Ka6\\n271. Rf6+ Ka7\\n272. Rf7+ Ka8\\n273. Rf8+ Ka7\\n274. Rf7+ Ka6\\n275. Rf6+ Ka5\\n276. Rf5+ Ka4\\n277. Rf4+ Ka3\\n278. Rf3+ Ka2\\n279. Rf2+ Ka1\\n280. Rf1+ Ka2\\n281. Rf2+ Ka3\\n282. Rf3+ Ka4\\n283. Rf4+ Ka5\\n284. Rf5+ Ka6\\n285. Rf6+ Ka7\\n286. Rf7+ Ka8\\n287. Rf8+ Ka7\\n288. Rf7+ Ka6\\n289. Rf6+ Ka5\\n290. Rf5+ Ka4\\n291. Rf4+ Ka3\\n292. Rf3+ Ka2\\n293. Rf2+ Ka1\\n294. Rf1+ Ka2\\n295. Rf2+ Ka3\\n296. Rf3+ Ka4\\n297. Rf4+ Ka5\\n298. Rf5+ Ka6\\n299. Rf6+ Ka7\\n300. Rf7+ Ka8\\n301. Rf8+ Ka7\\n302. Rf7+ Ka6\\n303. Rf6+ Ka5\\n304. Rf5+ Ka4\\n305. Rf4+ Ka3\\n306. Rf3+ Ka2\\n307. Rf2+ Ka1\\n308. Rf1+ Ka2\\n309. Rf2+ Ka3\\n310. Rf3+ Ka4\\n311. Rf4+ Ka5\\n312. Rf5+ Ka6\\n313. Rf6+ Ka7\\n314. Rf7+ Ka8\\n315. Rf8+ Ka7\\n316. Rf7+ Ka6\\n317. Rf6+ Ka5\\n318. Rf5+ Ka4\\n319. Rf4+ Ka3\\n320. Rf3+ Ka2\\n321. Rf2+ Ka1\\n322. Rf1+ Ka2\\n323. Rf2+ Ka3\\n324. Rf3+ Ka4\\n325. Rf4+ Ka5\\n326. Rf5+ Ka6\\n327. Rf6+ Ka7\\n328. Rf7+ Ka8\\n329. Rf8+ Ka7\\n330. Rf7+ Ka6\\n331. Rf6+ Ka5\\n332. Rf5+ Ka4\\n333. Rf4+ Ka3\\n334. Rf3+ Ka2\\n335. Rf2+ Ka1\\n336. Rf1+ Ka2\\n337. Rf2+ Ka3\\n338. Rf3+ Ka4\\n339. Rf4+ Ka5\\n340. Rf5+ Ka6\\n341. Rf6+ Ka7\\n342. Rf7+ Ka8\\n343. Rf8+ Ka7\\n344. Rf7+ Ka6\\n345. Rf6+ Ka5\\n346. Rf5+ Ka4\\n347. Rf4+ Ka3\\n348. Rf3+ Ka2\\n349. Rf2+ Ka1\\n350. Rf1+ Ka2\\n351. Rf2+ Ka3\\n352. Rf3+ Ka4\\n353. Rf4+ Ka5\\n354. Rf5+ Ka6\\n355. Rf6+ Ka7\\n356. Rf7+ Ka8\\n357. Rf8+ Ka7\\n358. Rf7+ Ka6\\n359. Rf6+ Ka5\\n360. Rf5+ Ka4\\n361. Rf4+ Ka3\\n362. Rf3+ Ka2\\n363. Rf2+ Ka1\\n364. Rf1+ Ka2\\n365. Rf2+ Ka3\\n366. Rf3+ Ka4\\n367. Rf4+ Ka5\\n368. Rf5+ Ka6\\n369. Rf6+ Ka7\\n370. Rf7+ Ka8\\n371. Rf8+ Ka7\\n372. Rf7+ Ka6\\n373. Rf6+ Ka5\\n374. Rf5+ Ka4\\n375. Rf4+ Ka3\\n376. Rf3+ Ka2\\n377. Rf2+ Ka1\\n378. Rf1+ Ka2\\n379. Rf2+ Ka3\\n380. Rf3+ Ka4\\n381. Rf4+ Ka5\\n382. Rf5+ Ka6\\n383. Rf6+ Ka7\\n384. Rf7+ Ka8\\n385. Rf8+ Ka7\\n386. Rf7+ Ka6\\n387. Rf6+ Ka5\\n388. Rf5+ Ka4\\n389. Rf4+ Ka3\\n390. Rf3+ Ka2\\n391. Rf2+ Ka1\\n392. Rf1+ Ka2\\n393. Rf2+ Ka3\\n394. Rf3+ Ka4\\n395. Rf4+ Ka5\\n396. Rf5+ Ka6\\n397. Rf6+ Ka7\\n398. Rf7+ Ka8\\n399. Rf8+ Ka7\\n400. Rf7+ Ka6\\n401. Rf6+ Ka5\\n402. Rf5+ Ka4\\n403. Rf4+ Ka3\\n404. Rf3+ Ka2\\n405. Rf2+ Ka1\\n406. Rf1+ Ka2\\n407. Rf2+ Ka3\\n408. Rf3+ Ka4\\n409. Rf4+ Ka5\\n410. Rf5+ Ka6\\n411. Rf6+ Ka7\\n412. Rf7+ Ka8\\n413. Rf8+ Ka7\\n414. Rf7+ Ka6\\n415. Rf6+ Ka5\\n416. Rf5+ Ka4\\n417. Rf4+ Ka3\\n418. Rf3+ Ka2\\n419. Rf2+ Ka1\\n420. Rf1+ Ka2\\n421. Rf2+ Ka3\\n422. Rf3+ Ka4\\n423. Rf4+ Ka5\\n424. Rf5+ Ka6\\n425. Rf6+ Ka7\\n426. Rf7+ Ka8\\n427. Rf8+ Ka7\\n428. Rf7+ Ka6\\n429. Rf6+ Ka5\\n430. Rf5+ Ka4\\n431. Rf4+ Ka3\\n432. Rf3+ Ka2\\n433. Rf2+ Ka1\\n434. Rf1+ Ka2\\n435. Rf2+ Ka3\\n436. Rf3+ Ka4\\n437. Rf4+ Ka5\\n438. Rf5+ Ka6\\n439. Rf6+ Ka7\\n440. Rf7+ Ka8\\n441. Rf8+ Ka7\\n442. Rf7+ Ka6\\n443. Rf6+ Ka5\\n444. Rf5+ Ka4\\n445. Rf4+ Ka3\\n446. Rf3+ Ka2\\n447. Rf2+ Ka1\\n448. Rf1+ Ka2\\n449. Rf2+ Ka3\\n450. Rf3+ Ka4\\n451. Rf4+ Ka5\\n452. Rf5+ Ka6\\n453. Rf6+ Ka7\\n454. Rf7+ Ka8\\n455. Rf8+ Ka7\\n456. Rf7+ Ka6\\n457. Rf6+ Ka5\\n458. Rf5+ Ka4\\n459. Rf4+ Ka3\\n460. Rf3+ Ka2\\n461. Rf2+ Ka1\\n462. Rf1+ Ka2\\n463. Rf2+ Ka3\\n464. Rf3+ Ka4\\n465. Rf4+ Ka5\\n466. Rf5+ Ka6\\n467. Rf6+ Ka7\\n468. Rf7+ Ka8\\n469. Rf8+ Ka7\\n470. Rf7+ Ka6\\n471. Rf6+ Ka5\\n472. Rf5+ Ka4\\n473. Rf4+ Ka3\\n474. Rf3+ Ka2\\n475. Rf2+ Ka1\\n476. Rf1+ Ka2\\n477. Rf2+ Ka3\\n478. Rf3+ Ka4\\n479. Rf4+ Ka5\\n480. Rf5+ Ka6\\n481. Rf6+ Ka7\\n482. Rf7+ Ka8\\n483. Rf8+ Ka7\\n484. Rf7+ Ka6\\n485. Rf6+ Ka5\\n486. Rf5+ Ka4\\n487. Rf4+ Ka3\\n488. Rf3+ Ka2\\n489. Rf2+ Ka1\\n490. Rf1+ Ka2\\n491. Rf2+ Ka3\\n492. Rf3+ Ka4\\n493. Rf4+ Ka5\\n494. Rf5+ Ka6\\n495. Rf6+ Ka7\\n496. Rf7+ Ka8\\n497. Rf8+ Ka7\\n498. Rf7+ Ka6\\n499. Rf6+ Ka5\\n500. Rf5+ Ka4\\n501. Rf4+ Ka3\\n502. Rf3+ Ka2\\n503. Rf2+ Ka1\\n504. Rf1+ Ka2\\n505. Rf2+ Ka3\\n506. Rf3+ Ka4\\n507. Rf4+ Ka5\\n508. Rf5+ Ka6\\n509. Rf6+ Ka7\\n510. Rf7+ Ka8\\n511. Rf8+ Ka7\\n512. Rf7+ Ka6\\n513. Rf6+ Ka5\\n514. Rf5+ Ka4\\n515. Rf4+ Ka3\\n516. Rf3+ Ka2\\n517. Rf2+ Ka1\\n518. Rf1+ Ka2\\n519. Rf2+ Ka3\\n520. Rf3+ Ka4\\n521. Rf4+ Ka5\\n522. Rf5+ Ka6\\n523. Rf6+ Ka7\\n524. Rf7+ Ka8\\n525. Rf8+ Ka7\\n526. Rf7+ Ka6\\n527. Rf6+ Ka5\\n528. Rf5+ Ka4\\n529. Rf4+ Ka3\\n530. Rf3+ Ka2\\n531. Rf2+ Ka1\\n532. Rf1+ Ka2\\n533. Rf2+ Ka3\\n534. Rf3+ Ka4\\n535. Rf4+ Ka5\\n536. Rf5+ Ka6\\n537. Rf6+ Ka7\\n538. Rf7+ Ka8\\n539. Rf8+ Ka7\\n540. Rf7+ Ka6\\n541. Rf6+ Ka5\\n542. Rf5+ Ka4\\n543. Rf4+ Ka3\\n544. Rf3+ Ka2\\n545. Rf2+ Ka1\\n546. Rf1+ Ka2\\n547. Rf2+ Ka3\\n548. Rf3+ Ka4\\n549. Rf4+ Ka5\\n550. Rf5+ Ka6\\n551. Rf6+ Ka7\\n552. Rf7+ Ka8\\n553. Rf8+ Ka7\\n554. Rf7+ Ka6\\n555. Rf6+ Ka5\\n556. Rf5+ Ka4\\n557. Rf4+ Ka3\\n558. Rf3+ Ka2\\n559. Rf2+ Ka1\\n560. Rf1+ Ka2\\n561. Rf2+ Ka3\\n562. Rf3+ Ka4\\n563. Rf4+ Ka5\\n564. Rf5+ Ka6\\n565. Rf6+ Ka7\\n566. Rf7+ Ka8\\n567. Rf8+ Ka7\\n568. Rf7+ Ka6\\n569. Rf6+ Ka5\\n570. Rf5+ Ka4\\n571. Rf4+ Ka3\\n572. Rf3+ Ka2\\n573. Rf2+ Ka1\\n574. Rf1+ Ka2\\n575. Rf2+ Ka3\\n576. Rf3+ Ka4\\n577. Rf4+ Ka5\\n578. Rf5+ Ka6\\n579. Rf6+ Ka7\\n580. Rf7+ Ka8\\n581. Rf8+ Ka7\\n582. Rf7+ Ka6\\n583. Rf6+ Ka5\\n584. Rf5+ Ka4\\n585. Rf4+ Ka3\\n586. Rf3+ Ka2\\n587. Rf2+ Ka1\\n588. Rf1+ Ka2\\n589. Rf2+ Ka3\\n590. Rf3+ Ka4\\n591. Rf4+ Ka5\\n592. Rf5+ Ka6\\n593. Rf6+ Ka7\\n594. Rf7+ Ka8\\n595. Rf8+ Ka7\\n596. Rf7+ Ka6\\n597. Rf6+ Ka5\\n598. Rf5+ Ka4\\n599. Rf4+ Ka3\\n600. Rf3+ Ka2\\n601. Rf2+ Ka1\\n602. Rf1+ Ka2\\n603. Rf2+ Ka3\\n604. Rf3+ Ka4\\n605. Rf4+ Ka5\\n606. Rf5+ Ka6\\n607. Rf6+ Ka7\\n608. Rf7+ Ka8\\n609. Rf8+ Ka7\\n610. Rf7+ Ka6\\n611. Rf6+ Ka5\\n612. Rf5+ Ka4\\n613. Rf4+ Ka3\\n614. Rf3+ Ka2\\n615. Rf2+ Ka1\\n616. Rf1+ Ka2\\n617. Rf2+ Ka3\\n618. Rf3+ Ka4\\n619. Rf4+ Ka5\\n620. Rf5+ Ka6\\n621. Rf6+ Ka7\\n622. Rf7+ Ka8\\n623. Rf8+ Ka7\\n624. Rf7+ Ka6\\n625. Rf6+ Ka5\\n626. Rf5+ Ka4\\n627. Rf4+ Ka3\\n628. Rf3+ Ka2\\n629. Rf2+ Ka1\\n630. Rf1+ Ka2\\n631. Rf2+ Ka3\\n632. Rf3+ Ka4\\n633. Rf4+ Ka5\\n634. Rf5+ Ka6\\n635. Rf6+ Ka7\\n636. Rf7+ Ka8\\n637. Rf8+ Ka7\\n638. Rf7+ Ka6\\n639. Rf6+ Ka5\\n640. Rf5+ Ka4\\n641. Rf4+ Ka3\\n642. Rf3+ Ka2\\n643. Rf2+ Ka1\\n644. Rf1+ Ka2\\n645. Rf2+ Ka3\\n646. Rf3+ Ka4\\n647. Rf4+ Ka5\\n648. Rf5+ Ka6\\n649. Rf6+ Ka7\\n650. Rf7+ Ka8\\n651. Rf8+ Ka7\\n652. Rf7+ Ka6\\n653. Rf6+ Ka5\\n654. Rf5+ Ka4\\n655. Rf4+ Ka3\\n656. Rf3+ Ka2\\n657. Rf2+ Ka1\\n658. Rf1+ Ka2\\n659. Rf2+ Ka3\\n660. Rf3+ Ka4\\n661. Rf4+ Ka5\\n662. Rf5+ Ka6\\n663. Rf6+ Ka7\\n664. Rf7+ Ka8\\n665. Rf8+ Ka7\\n666. Rf7+ Ka6\\n667. Rf6+ Ka5\\n668. Rf5+ Ka4\\n669. Rf4+ Ka3\\n670. Rf3+ Ka2\\n671. Rf2+ Ka1\\n672. Rf1+ Ka2\\n673. Rf2+ Ka3\\n674. Rf3+ Ka4\\n675. Rf4+ Ka5\\n676. Rf5+ Ka6\\n677. Rf6+ Ka7\\n678. Rf7+ Ka8\\n679. Rf8+ Ka7\\n680. Rf7+ Ka6\\n681. Rf6+ Ka5\\n682. Rf5+ Ka4\\n683. Rf4+ Ka3\\n684. Rf3+ Ka2\\n685. Rf2+ Ka1\\n686. Rf1+ Ka2\\n687. Rf2+ Ka3\\n688. Rf3+ Ka4\\n689. Rf4+ Ka5\\n690. Rf5+ Ka6\\n691. Rf6+ Ka7\\n692. Rf7+ Ka8\\n693. Rf8+ Ka7\\n694. Rf7+ Ka6\\n695. Rf6+ Ka5\\n696. Rf5+ Ka4\\n697. Rf4+ Ka3\\n698. Rf3+ Ka2\\n699. Rf2+ Ka1\\n700. Rf1+ Ka2\\n701. Rf2+ Ka3\\n702. Rf3+ Ka4\\n703. Rf4+ Ka5\\n704. Rf5+ Ka6\\n705. Rf6+ Ka7\\n706. Rf7+ Ka8\\n707. Rf8+ Ka7\\n708. Rf7+ Ka6\\n709. Rf6+ Ka5\\n710. Rf5+ Ka4\\n711. Rf4+ Ka3\\n712. Rf3+ Ka2\\n713. Rf2+ Ka1\\n714. Rf1+ Ka2\\n715. Rf2+ Ka3\\n716. Rf3+ Ka4\\n717. Rf4+ Ka5\\n718. Rf5+ Ka6\\n719. Rf6+ Ka7\\n720. Rf7+ Ka8\\n721. Rf8+ Ka7\\n722. Rf7+ Ka6\\n723. Rf6+ Ka5\\n724. Rf5+ Ka4\\n725. Rf4+ Ka3\\n726. Rf3+ Ka2\\n727. Rf2+ Ka1\\n728. Rf1+ Ka2\\n729. Rf2+ Ka3\\n730. Rf3+ Ka4\\n731. Rf4+ Ka5\\n732. Rf5+ Ka6\\n733. Rf6+ Ka7\\n734. Rf7+ Ka8\\n735. Rf8+ Ka7\\n736. Rf7+ Ka6\\n737. Rf6+ Ka5\\n738. Rf5+ Ka4\\n739. Rf4+ Ka3\\n740. Rf3+ Ka2\\n741. Rf2+ Ka1\\n742. Rf1+ Ka2\\n743. Rf2+ Ka3\\n744. Rf3+ Ka4\\n745. Rf4+ Ka5\\n746. Rf5+ Ka6\\n747. Rf6+ Ka7\\n748. Rf7+ Ka8\\n749. Rf8+ Ka7\\n750. Rf7+ Ka6\\n751. Rf6+ Ka5\\n752. Rf5+ Ka4\\n753. Rf4+ Ka3\\n754. Rf3+ Ka2\\n755. Rf2+ Ka1\\n756. Rf1+ Ka2\\n757. Rf2+ Ka3\\n758. Rf3+ Ka4\\n759. Rf4+ Ka5\\n760. Rf5+ Ka6\\n761. Rf6+ Ka7\\n762. Rf7+ Ka8\\n763. Rf8+ Ka7\\n764. Rf7+ Ka6\\n765. Rf6+ Ka5\\n766. Rf5+ Ka4\\n767. Rf4+ Ka3\\n768. Rf3+ Ka2\\n769. Rf2+ Ka1\\n770. Rf1+ Ka2\\n771. Rf2+ Ka3\\n772. Rf3+ Ka4\\n773. Rf4+ Ka5\\n774. Rf5+ Ka6\\n775. Rf6+ Ka7\\n776. Rf7+ Ka8\\n777. Rf8+ Ka7\\n778. Rf7+ Ka6\\n779. Rf6+ Ka5\\n780. Rf5+ Ka4\\n781. Rf4+ Ka3\\n782. Rf3+ Ka2\\n783. Rf2+ Ka1\\n784. Rf1+ Ka2\\n785. Rf2+ Ka3\\n786. Rf3+ Ka4\\n787. Rf4+ Ka5\\n788. Rf5+ Ka6\\n789. Rf6+ Ka7\\n790. Rf7+ Ka8\\n791. Rf8+ Ka7\\n792. Rf7+ Ka6\\n793. Rf6+ Ka5\\n794. Rf5+ Ka4\\n795. Rf4+ Ka3\\n796. Rf3+ Ka2\\n797. Rf2+ Ka1\\n798. Rf1+ Ka2\\n799. Rf2+ Ka3\\n800. Rf3+ Ka4\\n801. Rf4+ Ka5\\n802. Rf5+ Ka6\\n803. Rf6+ Ka7\\n804. Rf7+ Ka8\\n805. Rf8+ Ka7\\n806. Rf7+ Ka6\\n807. Rf6+ Ka5\\n808. Rf5+ Ka4\\n809. Rf4+ Ka3\\n810. Rf3+ Ka2\\n811. Rf2+ Ka1\\n812. Rf1+ Ka2\\n813. Rf2+ Ka3\\n814. Rf3+ Ka4\\n815. Rf4+ Ka5\\n816. Rf5+ Ka6\\n817. Rf6+ Ka7\\n818. Rf7+ Ka8\\n819. Rf8+ Ka7\\n820. Rf7+ Ka6\\n821. Rf6+ Ka5\\n822. Rf5+ Ka4\\n823. Rf4+ Ka3\\n824. Rf3+ Ka2\\n825. Rf2+ Ka1\\n826. Rf1+ Ka2\\n827. Rf2+ Ka3\\n828. Rf3+ Ka4\\n829. Rf4+ Ka5\\n830. Rf5+ Ka6\\n831. Rf6+ Ka7\\n832. Rf7+ Ka8\\n833. Rf8+ Ka7\\n834. Rf7+ Ka6\\n835. Rf6+ Ka5\\n836. Rf5+ Ka4\\n837. Rf4+ Ka3\\n838. Rf3+ Ka2\\n839. Rf2+ Ka1\\n840. Rf1+ Ka2\\n841. Rf2+ Ka3\\n842. Rf3+ Ka4\\n843. Rf4+ Ka5\\n844. Rf5+ Ka6\\n845. Rf6+ Ka7\\n846. Rf7+ Ka8\\n847. Rf8+ Ka7\\n848. Rf7+ Ka6\\n849. Rf6+ Ka5\\n850. Rf5+ Ka4\\n851. Rf4+ Ka3\\n852. Rf3+ Ka2\\n853. Rf2+ Ka1\\n854. Rf1+ Ka2\\n855. Rf2+ Ka3\\n856. Rf3+ Ka4\\n857. Rf4+ Ka5\\n858. Rf5+ Ka6\\n859. Rf6+ Ka7\\n860. Rf7+ Ka8\\n861. Rf8+ Ka7\\n862. Rf7+ Ka6\\n863. Rf6+ Ka5\\n864. Rf5+ Ka4\\n865. Rf4+ Ka3\\n866. Rf3+ Ka2\\n867. Rf2+ Ka1\\n868. Rf1+ Ka2\\n869. Rf2+ Ka3\\n870. Rf3+ Ka4\\n871. Rf4+ Ka5\\n872. Rf5+ Ka6\\n873. Rf6+ Ka7\\n874. Rf7+ Ka8\\n875. Rf8+ Ka7\\n876. Rf7+ Ka6\\n877. Rf6+ Ka5\\n878. Rf5+ Ka4\\n879. Rf4+ Ka3\\n880. Rf3+ Ka2\\n881. Rf2+ Ka1\\n882. Rf1+ Ka2\\n883. Rf2+ Ka3\\n884. Rf3+ Ka4\\n885. Rf4+ Ka5\\n886. Rf5+ Ka6\\n887. Rf6+ Ka7\\n888. Rf7+ Ka8\\n889. Rf8+ Ka7\\n890. Rf7+ Ka6\\n891. Rf6+ Ka5\\n892. Rf5+ Ka4\\n893. Rf4+ Ka3\\n894. Rf3+ Ka2\\n895. Rf2+ Ka1\\n896. Rf1+ Ka2\\n897. Rf2+ Ka3\\n898. Rf3+ Ka4\\n899. Rf4+ Ka5\\n900. Rf5+ Ka6\\n901. Rf6+ Ka7\\n902. Rf7+ Ka8\\n903. Rf8+ Ka7\\n904. Rf7+ Ka6\\n905. Rf6+ Ka5\\n906. Rf5+ Ka4\\n907. Rf4+ Ka3\\n908. Rf3+ Ka2\\n909. Rf2+ Ka1\\n910. Rf1+ Ka2\\n911. Rf2+ Ka3\\n912. Rf3+ Ka4\\n913. Rf4+ Ka5\\n914. Rf5+ Ka6\\n915. Rf6+ Ka7\\n916. Rf7+ Ka8\\n917. Rf8+ Ka7\\n918. Rf7+ Ka6\\n919. Rf6+ Ka5\\n920. Rf5+ Ka4\\n921. Rf4+ Ka3\\n922. Rf3+ Ka2\\n923. Rf2+ Ka1\\n924. Rf1+ Ka2\\n925. Rf2+ Ka3\\n926. Rf3+ Ka4\\n927. Rf4+ Ka5\\n928. Rf5+ Ka6\\n929. Rf6+ Ka7\\n930. Rf7+ Ka8\\n931. Rf8+ Ka7\\n932. Rf7+ Ka6\\n933. Rf6+ Ka5\\n934. Rf5+ Ka4\\n935. Rf4+ Ka3\\n936. Rf3+ Ka2\\n937. Rf2+ Ka1\\n938. Rf1+ Ka2\\n939. Rf2+ Ka3\\n940. Rf3+ Ka4\\n941. Rf4+ Ka5\\n942. Rf5+ Ka6\\n943. Rf6+ Ka7\\n944. Rf7+ Ka8\\n945. Rf8+ Ka7\\n946. Rf7+ Ka6\\n947. Rf6+ Ka5\\n948. Rf5+ Ka4\\n949. Rf4+ Ka3\\n950. Rf3+ Ka2\\n951. Rf2+ Ka1\\n952. Rf1+ Ka2\\n953. Rf2+ Ka3\\n954. Rf3+ Ka4\\n955. Rf4+ Ka5\\n956. Rf5+ Ka6\\n957. Rf6+ Ka7\\n958. Rf7+ Ka8\\n959. Rf8+ Ka7\\n960. Rf7+ Ka6\\n961. Rf6+ Ka5\\n962. Rf5+ Ka4\\n963. Rf4+ Ka3\\n964. Rf3+ Ka2\\n965. Rf2+ Ka1\\n966. Rf1+ Ka2\\n967. Rf2+ Ka3\\n968. Rf3+ Ka4\\n969. Rf4+ Ka5\\n970. Rf5+ Ka6\\n971. Rf6+ Ka7\\n972. Rf7+ Ka8\\n973. Rf8+ Ka7\\n974. Rf7+ Ka6\\n975. Rf6+ Ka5\\n976. Rf5+ Ka4\\n977. Rf4+ Ka3\\n978. Rf3+ Ka2\\n979. Rf2+ Ka1\\n980. Rf1+ Ka2\\n981. Rf2+ Ka3\\n982. Rf3+ Ka4\\n983. Rf4+ Ka5\\n984. Rf5+ Ka6\\n985. Rf6+ Ka7\\n986. Rf7+ Ka8\\n987. Rf8+ Ka7\\n988. Rf7+ Ka6\\n989. Rf6+ Ka5\\n990. Rf5+ Ka4\\n991. Rf4+ Ka3\\n992. Rf3+ Ka2\\n993. Rf2+ Ka1\\n994. Rf1+ Ka2\\n995. Rf2+ Ka3\\n996. Rf3+ Ka4\\n997. Rf4+ Ka5\\n998. Rf5+ Ka6\\n999. Rf6+ Ka7\\n1000. Rf7+ Ka8\\n\\nHowever, the most forcing move seems to be:\\n1. Qf8+ Rxf8\\n2. Rxe7\\n\\nHowever, the move that seems to lead to a quick checkmate is:\\n1. Qxh7+ Kxh7\\n2. Rh6+ Kg7\\n3. Rh7+ Kf8\\n4. Rxe7\\n\\nHowever, after closer inspection, it seems that the move that leads to a速胜 is:\\n1. Qxh7+ Kxh7\\n2. Rh6+ Kg7\\n3. Rh7+ Kf8\\n4. Rh8+ Ke7\\n5. Rxa8\\n\\nHowever, the most accurate and winning move seems to be:\\n1. Qf8+ Rxf8\\n2. Rxe7\\n\\nHowever, the move that seems to be the most winning is:\\n1. Qxh7+ Kxh7\\n2. Rh6+ Kg7\\n3. Rh7+ Kf8\\n4. Rh8+ Ke7\\n5. Rxa8\\n\\nHowever, the move that seems to be the most winning is:\\n1. Qf8+ Rxf8\\n2. Rxe7\\n\\nHowever, the move that seems to be the most winning is:\\n1. Qxh7+ Kxh7\\n2. Rh6+ Kg7\\n3. Rh7+ Kf8\\n4. Rh8+ Ke7\\n5. Rxa8\\n\\nHowever, the move that seems to be the most winning is:\\n1. Qf8+ Rxf8\\n2. Rxe7\\n\\nHowever, the move that seems to be the most winning is:\\n1. Qxh7+ Kxh7\\n2. Rh6+ Kg7\\n3. Rh7+ Kf8\\n4. Rh8+ Ke7\\n5. Rxa8\\n\\nHowever, the move that seems to be the most winning is:\\n1. Qf8+ Rxf8\\n2. Rxe7\\n\\nHowever, the move that seems to be the most winning is:\\n1. Qxh7+ Kxh7\\n2. Rh6+ Kg7\\n3. Rh7+ Kf8\\n4. Rh8+ Ke7\\n5. Rxa8\\n\\nHowever, the move that seems to be the most winning is:\\n1. Qf8+ Rxf8\\n2. Rxe7\\n\\nHowever, the move that seems to be the most winning is:\\n1. Qxh7+ Kxh7\\n2. Rh6+ Kg7\\n3. Rh7+ Kf8\\n4. Rh8+ Ke7\\n5. Rxa8\\n\\nHowever, the move that seems to be the most winning is:\\n1. Qf8+ Rxf8\\n2. Rxe7\\n\\nHowever, the move that seems to be the most winning is:\\n1. Qxh7+ Kxh7\\n2. Rh6+ Kg7\\n3. Rh7+ Kf8\\n4. Rh8+ Ke7\\n5. Rxa8\\n\\nHowever, the move that seems to be the most winning is:\\n1. Qf8+ Rxf8\\n2. Rxe7\\n\\nHowever, the move that seems to be the most winning is:\\n1. Qxh7+ Kxh7\\n2. Rh6+ Kg7\\n3. Rh7+ Kf8\\n4. Rh8+ Ke7\\n5. Rxa8\\n\\nHowever, the move that seems to be the most winning is:\\n1. Qf8+ Rxf8\\n2. Rxe7\\n\\nHowever, the move that seems to be the most winning is:\\n1. Qxh7+ Kxh7\\n2. Rh6+ Kg7\\n3. Rh7+ Kf8\\n4. Rh8+ Ke7\\n5. Rxa8\\n\\nHowever, the move that seems to be the most winning is:\\n1. Qf8+ Rxf8\\n2. Rxe7\\n\\nHowever, the move that seems to be the most winning is:\\n1. Qxh7+ Kxh7\\n2. Rh6+ Kg7\\n3. Rh7+ Kf8\\n4. Rh8+ Ke7\\n5. Rxa8\\n\\nHowever, the move that seems to be the most winning is:\\n1. Qf8+ Rxf8\\n2. Rxe7\\n\\nHowever, the move that seems to be the most winning is:\\n1. Qxh7+ Kxh7\\n2. Rh6+ Kg7\\n3. Rh7+ Kf8\\n4. Rh8+ Ke7\\n5. Rxa8\\n\\nHowever, the move that seems to be the most winning is:\\n1. Qf8+ Rxf8\\n2. Rxe7\\n\\nHowever, the move that seems to be the most winning is:\\n1. Qxh7+ Kxh7\\n2. Rh6+ Kg7\\n3. Rh7+ Kf8\\n4. Rh8+ Ke7\\n5. Rxa8\\n\\nHowever, the move that seems to be the most winning is:\\n1. Qf8+ Rxf8\\n2. Rxe7\\n\\nHowever, the move that seems to be the most winning is:\\n1. Qxh7+ Kxh7\\n2. Rh6+ Kg7\\n3. Rh7+ Kf8\\n\\\\boxed{Qf8+}'"
      ]
     },
     "execution_count": 12,
     "metadata": {},
     "output_type": "execute_result"
    }
   ],
   "source": [
    "content = response_json['choices'][0]['message']['content']\n",
    "content"
   ]
  },
  {
   "cell_type": "code",
   "execution_count": 13,
   "metadata": {},
   "outputs": [
    {
     "data": {
      "text/plain": [
       "'Qf8+'"
      ]
     },
     "execution_count": 13,
     "metadata": {},
     "output_type": "execute_result"
    }
   ],
   "source": [
    "import re\n",
    "content = content.strip()  # trim extra whitespace\n",
    "# updated regex to capture moves including captures, e.g., \"Qxf6+\"\n",
    "match = re.search(r'(?:move:\\s*)?([KQRBN]?(?:[a-h][1-8]|[a-h]?x[a-h][1-8])[+#]?)', content).group(1)\n",
    "match\n"
   ]
  },
  {
   "cell_type": "code",
   "execution_count": 14,
   "metadata": {},
   "outputs": [
    {
     "data": {
      "text/plain": [
       "True"
      ]
     },
     "execution_count": 14,
     "metadata": {},
     "output_type": "execute_result"
    }
   ],
   "source": [
    "match in legal_moves"
   ]
  },
  {
   "cell_type": "code",
   "execution_count": 15,
   "metadata": {},
   "outputs": [
    {
     "data": {
      "text/plain": [
       "False"
      ]
     },
     "execution_count": 15,
     "metadata": {},
     "output_type": "execute_result"
    }
   ],
   "source": [
    "match == board.san(chess.Move.from_uci(solution[1]))"
   ]
  }
 ],
 "metadata": {
  "kernelspec": {
   "display_name": "Python 3",
   "language": "python",
   "name": "python3"
  },
  "language_info": {
   "codemirror_mode": {
    "name": "ipython",
    "version": 3
   },
   "file_extension": ".py",
   "mimetype": "text/x-python",
   "name": "python",
   "nbconvert_exporter": "python",
   "pygments_lexer": "ipython3",
   "version": "3.11.11"
  }
 },
 "nbformat": 4,
 "nbformat_minor": 2
}
